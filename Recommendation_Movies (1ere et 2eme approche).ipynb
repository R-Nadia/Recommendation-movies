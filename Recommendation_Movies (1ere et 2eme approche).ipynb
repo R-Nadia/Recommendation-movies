{
 "cells": [
  {
   "cell_type": "markdown",
   "metadata": {},
   "source": [
    "-Amira Kouider 21914040 (MLDS)\n",
    "-Nadia Radouani 21911973 (MLDS)\n",
    "-Taous Iggui 21909286 (VMI)\n",
    "-Ghazeleh Ghanizadeh 21914004 (VMI)"
   ]
  },
  {
   "cell_type": "markdown",
   "metadata": {},
   "source": [
    "# Netflix Movie Recommendation System"
   ]
  },
  {
   "cell_type": "markdown",
   "metadata": {},
   "source": [
    "We all wonder how Amazon or Netflix arrived at this \"power\" and this success? How Netflix Can Know Our Cinematic \n",
    "Preferences? How did Amazon know I was a big fan of Games of Thrones ? And how did Youtube know i am interested \n",
    "by wildlife documentary ?\n",
    "\n",
    "Well, this is called Recommendation System.\n",
    "\n",
    "The main goal of this machine learning project is to build a recommendation engine that recommends movies to users.\n",
    "\n",
    "We will use  Netflix. It consists of 4 text data files, each file contains over 20M \n",
    "rows, i.e. over 4K movies and 400K customers. All together over 17K movies and 500K+ customers!\n",
    "\n",
    "In order to do this, we have used the Netflix Dataset. This data consists of 4 text data files, each file contains \n",
    "over 20M rows. All together 17.770 Movies, 480.189 customers, 100.480.507 ratings given.\n",
    "\n",
    "Also, \"User-based collaborative filtering\", a type of recommendation algorithm based on self & others behaviour."
   ]
  },
  {
   "cell_type": "markdown",
   "metadata": {},
   "source": [
    "<img src=\"image.jpg\"/>"
   ]
  },
  {
   "cell_type": "markdown",
   "metadata": {},
   "source": [
    "### Table of Content:"
   ]
  },
  {
   "cell_type": "markdown",
   "metadata": {},
   "source": [
    "* Data processing\n",
    "    * Importing Essential Libraries\n",
    "    * Retrieving the Data\n",
    "        - Load Data & show theire shapes \n",
    "        - Show some information about the Data\n",
    "    * Data Pre-processing\n",
    "    * Data slicing\n",
    "* Recommendation models\n",
    "    * Collaborative Filtering\n",
    "        - Prediction\n",
    "            - Prediction for a user picked randomly\n",
    "    * Similarities Between Movies (CORRELATION)\n"
   ]
  },
  {
   "cell_type": "markdown",
   "metadata": {},
   "source": [
    "## Data processing"
   ]
  },
  {
   "cell_type": "markdown",
   "metadata": {},
   "source": [
    "### Importing Essential Libraries"
   ]
  },
  {
   "cell_type": "code",
   "execution_count": 64,
   "metadata": {},
   "outputs": [],
   "source": [
    "import pandas as pd\n",
    "import numpy as np\n",
    "import math\n",
    "import re\n",
    "from scipy.sparse import csr_matrix\n",
    "import matplotlib.pyplot as plt\n",
    "import seaborn as sns\n",
    "from surprise import accuracy\n",
    "from surprise.model_selection import train_test_split\n",
    "from surprise import Reader, Dataset, SVD, NormalPredictor,BaselineOnly, SVDpp\n",
    "from surprise.model_selection import cross_validate\n",
    "sns.set_style(\"darkgrid\")"
   ]
  },
  {
   "cell_type": "markdown",
   "metadata": {},
   "source": [
    "### Retrieving the Data"
   ]
  },
  {
   "cell_type": "markdown",
   "metadata": {},
   "source": [
    "Each data file (there are 4 of them) contains the movie id followed by a column.  \n",
    "\n",
    "Each subsequent line in the file corresponds to a rating from a customer and its date in the following format:\n",
    "\n",
    "CustomerID,Rating,Date\n",
    "\n",
    "- MovieIDs range from 1 to 17770 sequentially.\n",
    "- CustomerIDs range from 1 to 2649429, with gaps. There are 480189 users.\n",
    "- Ratings are on a five star (integral) scale from 1 to 5.\n",
    "- Dates have the format YYYY-MM-DD."
   ]
  },
  {
   "cell_type": "markdown",
   "metadata": {},
   "source": [
    "#### Load Data & show theire shapes "
   ]
  },
  {
   "cell_type": "markdown",
   "metadata": {},
   "source": [
    "Knowing that there is four files"
   ]
  },
  {
   "cell_type": "code",
   "execution_count": 65,
   "metadata": {},
   "outputs": [
    {
     "name": "stdout",
     "output_type": "stream",
     "text": [
      "data_1:  (24058263, 2)\n",
      "data_2:  (26982302, 2)\n",
      "data_3:  (22605786, 2)\n",
      "data_4:  (26851926, 2)\n"
     ]
    }
   ],
   "source": [
    "## DATA I\n",
    "data_1 = pd.read_csv(\"C:/Users/NADIA/Desktop/M1 MLSD/S2/BIG DATA/netflix-prize-data/combined_data_1.txt\",\n",
    "                     header=None,\n",
    "                     names=[\"Cust_Id\", \"Rating\"],\n",
    "                     usecols=[0, 1]\n",
    "                     )\n",
    "print(\"data_1: \", data_1.shape)\n",
    "data_1['Rating'] = data_1['Rating'].astype(float)\n",
    "\n",
    "## DATA II\n",
    "data_2 = pd.read_csv(\"C:/Users/NADIA/Desktop/M1 MLSD/S2/BIG DATA/netflix-prize-data/combined_data_2.txt\",\n",
    "                     header=None,\n",
    "                     names=[\"Cust_Id\", \"Rating\"],\n",
    "                     usecols=[0, 1]\n",
    "                     )\n",
    "print(\"data_2: \", data_2.shape)\n",
    "data_2['Rating'] = data_2['Rating'].astype(float)\n",
    "\n",
    "## DATA III\n",
    "data_3 = pd.read_csv(\"C:/Users/NADIA/Desktop/M1 MLSD/S2/BIG DATA/netflix-prize-data/combined_data_3.txt\",\n",
    "                     header=None,\n",
    "                     names=[\"Cust_Id\", \"Rating\"],\n",
    "                     usecols=[0, 1]\n",
    "                     )\n",
    "print(\"data_3: \", data_3.shape)\n",
    "data_3['Rating'] = data_3['Rating'].astype(float)\n",
    "\n",
    "## DATA IV\n",
    "data_4 = pd.read_csv(\"C:/Users/NADIA/Desktop/M1 MLSD/S2/BIG DATA/netflix-prize-data/combined_data_4.txt\",\n",
    "                     header=None,\n",
    "                     names=[\"Cust_Id\", \"Rating\"],\n",
    "                     usecols=[0, 1]\n",
    "                     )\n",
    "print(\"data_4: \", data_4.shape)\n",
    "data_4['Rating'] = data_4['Rating'].astype(float)"
   ]
  },
  {
   "cell_type": "markdown",
   "metadata": {},
   "source": [
    "Combine the 4 Data and print the total shape"
   ]
  },
  {
   "cell_type": "code",
   "execution_count": 66,
   "metadata": {},
   "outputs": [
    {
     "name": "stdout",
     "output_type": "stream",
     "text": [
      "Full data:  (100498277, 2)\n"
     ]
    }
   ],
   "source": [
    "data = data_1\n",
    "data = data_1.append(data_2)\n",
    "data = data.append(data_3)\n",
    "data = data.append(data_4)\n",
    "\n",
    "#We will be working with subsets of a DataFrame object, to accomplish this including we will use Data Indexing\n",
    "data.index = np.arange(0,len(data))\n",
    "\n",
    "print(\"Full data: \", data.shape)\n"
   ]
  },
  {
   "cell_type": "markdown",
   "metadata": {},
   "source": [
    "Now, we will load the file which contains the titles of movies and show part of it"
   ]
  },
  {
   "cell_type": "code",
   "execution_count": 4,
   "metadata": {},
   "outputs": [
    {
     "name": "stdout",
     "output_type": "stream",
     "text": [
      "            Year                          Name\n",
      "Movie_Id                                      \n",
      "1         2003.0               Dinosaur Planet\n",
      "2         2004.0    Isle of Man TT 2004 Review\n",
      "3         1997.0                     Character\n",
      "4         1994.0  Paula Abdul's Get Up & Dance\n",
      "5         2004.0      The Rise and Fall of ECW\n"
     ]
    }
   ],
   "source": [
    "data_movie = pd.read_csv('C:/Users/NADIA/Desktop/M1 MLSD/S2/BIG DATA/netflix-prize-data/movie_titles.csv', encoding = \"ISO-8859-1\", header = None, names = ['Movie_Id', 'Year', 'Name'])\n",
    "\n",
    "#We will use \"Movie_Id\" as index of a Data_movie\n",
    "data_movie.set_index('Movie_Id', inplace = True)\n",
    "\n",
    "print (data_movie.head())"
   ]
  },
  {
   "cell_type": "markdown",
   "metadata": {},
   "source": [
    "#### Show some information about the Data"
   ]
  },
  {
   "cell_type": "markdown",
   "metadata": {},
   "source": [
    "Lets get a brief description of our dataset in order to enable us understand the dataset we are working with"
   ]
  },
  {
   "cell_type": "code",
   "execution_count": 5,
   "metadata": {},
   "outputs": [
    {
     "data": {
      "text/html": [
       "<div>\n",
       "<style scoped>\n",
       "    .dataframe tbody tr th:only-of-type {\n",
       "        vertical-align: middle;\n",
       "    }\n",
       "\n",
       "    .dataframe tbody tr th {\n",
       "        vertical-align: top;\n",
       "    }\n",
       "\n",
       "    .dataframe thead th {\n",
       "        text-align: right;\n",
       "    }\n",
       "</style>\n",
       "<table border=\"1\" class=\"dataframe\">\n",
       "  <thead>\n",
       "    <tr style=\"text-align: right;\">\n",
       "      <th></th>\n",
       "      <th>Cust_Id</th>\n",
       "      <th>Rating</th>\n",
       "    </tr>\n",
       "  </thead>\n",
       "  <tbody>\n",
       "    <tr>\n",
       "      <td>0</td>\n",
       "      <td>1:</td>\n",
       "      <td>NaN</td>\n",
       "    </tr>\n",
       "    <tr>\n",
       "      <td>1</td>\n",
       "      <td>1488844</td>\n",
       "      <td>3.0</td>\n",
       "    </tr>\n",
       "    <tr>\n",
       "      <td>2</td>\n",
       "      <td>822109</td>\n",
       "      <td>5.0</td>\n",
       "    </tr>\n",
       "    <tr>\n",
       "      <td>3</td>\n",
       "      <td>885013</td>\n",
       "      <td>4.0</td>\n",
       "    </tr>\n",
       "    <tr>\n",
       "      <td>4</td>\n",
       "      <td>30878</td>\n",
       "      <td>4.0</td>\n",
       "    </tr>\n",
       "  </tbody>\n",
       "</table>\n",
       "</div>"
      ],
      "text/plain": [
       "   Cust_Id  Rating\n",
       "0       1:     NaN\n",
       "1  1488844     3.0\n",
       "2   822109     5.0\n",
       "3   885013     4.0\n",
       "4    30878     4.0"
      ]
     },
     "execution_count": 5,
     "metadata": {},
     "output_type": "execute_result"
    }
   ],
   "source": [
    "data.head()"
   ]
  },
  {
   "cell_type": "code",
   "execution_count": 6,
   "metadata": {},
   "outputs": [
    {
     "data": {
      "text/html": [
       "<div>\n",
       "<style scoped>\n",
       "    .dataframe tbody tr th:only-of-type {\n",
       "        vertical-align: middle;\n",
       "    }\n",
       "\n",
       "    .dataframe tbody tr th {\n",
       "        vertical-align: top;\n",
       "    }\n",
       "\n",
       "    .dataframe thead th {\n",
       "        text-align: right;\n",
       "    }\n",
       "</style>\n",
       "<table border=\"1\" class=\"dataframe\">\n",
       "  <thead>\n",
       "    <tr style=\"text-align: right;\">\n",
       "      <th></th>\n",
       "      <th>Rating</th>\n",
       "    </tr>\n",
       "  </thead>\n",
       "  <tbody>\n",
       "    <tr>\n",
       "      <td>count</td>\n",
       "      <td>1.004805e+08</td>\n",
       "    </tr>\n",
       "    <tr>\n",
       "      <td>mean</td>\n",
       "      <td>3.604290e+00</td>\n",
       "    </tr>\n",
       "    <tr>\n",
       "      <td>std</td>\n",
       "      <td>1.085219e+00</td>\n",
       "    </tr>\n",
       "    <tr>\n",
       "      <td>min</td>\n",
       "      <td>1.000000e+00</td>\n",
       "    </tr>\n",
       "    <tr>\n",
       "      <td>25%</td>\n",
       "      <td>3.000000e+00</td>\n",
       "    </tr>\n",
       "    <tr>\n",
       "      <td>50%</td>\n",
       "      <td>4.000000e+00</td>\n",
       "    </tr>\n",
       "    <tr>\n",
       "      <td>75%</td>\n",
       "      <td>4.000000e+00</td>\n",
       "    </tr>\n",
       "    <tr>\n",
       "      <td>max</td>\n",
       "      <td>5.000000e+00</td>\n",
       "    </tr>\n",
       "  </tbody>\n",
       "</table>\n",
       "</div>"
      ],
      "text/plain": [
       "             Rating\n",
       "count  1.004805e+08\n",
       "mean   3.604290e+00\n",
       "std    1.085219e+00\n",
       "min    1.000000e+00\n",
       "25%    3.000000e+00\n",
       "50%    4.000000e+00\n",
       "75%    4.000000e+00\n",
       "max    5.000000e+00"
      ]
     },
     "execution_count": 6,
     "metadata": {},
     "output_type": "execute_result"
    }
   ],
   "source": [
    "data.describe()"
   ]
  },
  {
   "cell_type": "markdown",
   "metadata": {},
   "source": [
    "We can see that the average rating is 3.60 and the max is 5. We can also count over 100000000 rating"
   ]
  },
  {
   "cell_type": "markdown",
   "metadata": {},
   "source": [
    "Now, we will calculate the total of movies, customers and ratings given"
   ]
  },
  {
   "cell_type": "code",
   "execution_count": 7,
   "metadata": {},
   "outputs": [
    {
     "name": "stdout",
     "output_type": "stream",
     "text": [
      "TOTAL :  17,770 Movies, 480,189 customers, 100,480,507 ratings given.\n"
     ]
    }
   ],
   "source": [
    "# Total movies \n",
    "#in order to avoid calculating the NAN values which are in front of each movie_id we use the function isnull()\n",
    "total_movie = data.isnull().sum()[1]\n",
    "\n",
    "# Total customer\n",
    "# To avoid redundancy of customer ID we will use the function \"nunique\" which returns the total number of unique values\n",
    "# We should also delete the rows containing the movie ID (in column Cust_Id) which are \"total_movie\"\n",
    "total_customer = data['Cust_Id'].nunique() - total_movie\n",
    "\n",
    "# Total ratings given\n",
    "# The function \"count()\" returns how many times a given object occurs in list (ratings given)\n",
    "total_rating = data['Cust_Id'].count() - total_movie\n",
    "\n",
    "print(\"TOTAL : \"\n",
    "      \" {:,} Movies,\"\n",
    "      \" {:,} customers,\"\n",
    "      \" {:,} ratings given.\".format(total_movie, total_customer, total_rating))"
   ]
  },
  {
   "cell_type": "markdown",
   "metadata": {},
   "source": [
    "### Data Pre-processing"
   ]
  },
  {
   "cell_type": "markdown",
   "metadata": {},
   "source": [
    "Adding the movie ID column into the data will make it so much huge and it won't be clean. So we will create a array using it with correct length then add it to the data.\n",
    "\n",
    "First lets create a dataframe from data with two colums \"Rating\" & \"Index\" using reset_index()(method which sets a list of integer ranging from 0 to length of data as index)."
   ]
  },
  {
   "cell_type": "code",
   "execution_count": 8,
   "metadata": {},
   "outputs": [
    {
     "name": "stdout",
     "output_type": "stream",
     "text": [
      "movie_bis:  (100480507,)\n"
     ]
    }
   ],
   "source": [
    "# We will detect the rows (having a nan in the rating column) which correspond to the movies ID, \n",
    "#then we will index them and reset the indixation of data_null\n",
    "data_null = pd.DataFrame(pd.isnull(data.Rating))\n",
    "data_null = data_null[data_null['Rating'] == True]\n",
    "data_null = data_null.reset_index()\n",
    "\n",
    "movie_bis = []\n",
    "movie_id = 1\n",
    "\n",
    "for i,j in zip(data_null['index'][1:],data_null['index'][:-1]):\n",
    "    var = np.full((1,i-j-1), movie_id)\n",
    "    movie_bis = np.append(movie_bis, var)\n",
    "    movie_id += 1\n",
    "\n",
    "# Add the last \n",
    "last_one = np.full((1,len(data) - data_null.iloc[-1, 0] - 1),movie_id)\n",
    "movie_bis = np.append(movie_bis, last_one)\n",
    "\n",
    "print(\"movie_bis: \", movie_bis.shape)\n"
   ]
  },
  {
   "cell_type": "code",
   "execution_count": 9,
   "metadata": {},
   "outputs": [
    {
     "name": "stdout",
     "output_type": "stream",
     "text": [
      "The new data : \n"
     ]
    },
    {
     "data": {
      "text/html": [
       "<div>\n",
       "<style scoped>\n",
       "    .dataframe tbody tr th:only-of-type {\n",
       "        vertical-align: middle;\n",
       "    }\n",
       "\n",
       "    .dataframe tbody tr th {\n",
       "        vertical-align: top;\n",
       "    }\n",
       "\n",
       "    .dataframe thead th {\n",
       "        text-align: right;\n",
       "    }\n",
       "</style>\n",
       "<table border=\"1\" class=\"dataframe\">\n",
       "  <thead>\n",
       "    <tr style=\"text-align: right;\">\n",
       "      <th></th>\n",
       "      <th>Cust_Id</th>\n",
       "      <th>Rating</th>\n",
       "      <th>Movie_Id</th>\n",
       "    </tr>\n",
       "  </thead>\n",
       "  <tbody>\n",
       "    <tr>\n",
       "      <td>1</td>\n",
       "      <td>1488844</td>\n",
       "      <td>3.0</td>\n",
       "      <td>1</td>\n",
       "    </tr>\n",
       "    <tr>\n",
       "      <td>2</td>\n",
       "      <td>822109</td>\n",
       "      <td>5.0</td>\n",
       "      <td>1</td>\n",
       "    </tr>\n",
       "    <tr>\n",
       "      <td>3</td>\n",
       "      <td>885013</td>\n",
       "      <td>4.0</td>\n",
       "      <td>1</td>\n",
       "    </tr>\n",
       "    <tr>\n",
       "      <td>4</td>\n",
       "      <td>30878</td>\n",
       "      <td>4.0</td>\n",
       "      <td>1</td>\n",
       "    </tr>\n",
       "    <tr>\n",
       "      <td>5</td>\n",
       "      <td>823519</td>\n",
       "      <td>3.0</td>\n",
       "      <td>1</td>\n",
       "    </tr>\n",
       "  </tbody>\n",
       "</table>\n",
       "</div>"
      ],
      "text/plain": [
       "   Cust_Id  Rating  Movie_Id\n",
       "1  1488844     3.0         1\n",
       "2   822109     5.0         1\n",
       "3   885013     4.0         1\n",
       "4    30878     4.0         1\n",
       "5   823519     3.0         1"
      ]
     },
     "execution_count": 9,
     "metadata": {},
     "output_type": "execute_result"
    }
   ],
   "source": [
    "# remove those Movie ID rows\n",
    "data = data[pd.notnull(data['Rating'])]\n",
    "\n",
    "data['Movie_Id'] = movie_bis.astype(int)\n",
    "data['Cust_Id'] = data['Cust_Id'].astype(int)\n",
    "\n",
    "# print a part of new Data\n",
    "print(\"The new data : \" )\n",
    "data.head()"
   ]
  },
  {
   "cell_type": "markdown",
   "metadata": {},
   "source": [
    "### Data slicing"
   ]
  },
  {
   "cell_type": "markdown",
   "metadata": {},
   "source": [
    "Now let's take a look at the average rating of each movie. To do so, we will group the dataset by the movie_id and then calculate the mean of the rating for each movie."
   ]
  },
  {
   "cell_type": "code",
   "execution_count": 10,
   "metadata": {},
   "outputs": [
    {
     "data": {
      "text/plain": [
       "Movie_Id\n",
       "14961    4.723270\n",
       "7230     4.716611\n",
       "7057     4.702611\n",
       "3456     4.670989\n",
       "9864     4.638809\n",
       "Name: Rating, dtype: float64"
      ]
     },
     "execution_count": 10,
     "metadata": {},
     "output_type": "execute_result"
    }
   ],
   "source": [
    "data.groupby('Movie_Id')['Rating'].mean().sort_values(ascending=False).head()"
   ]
  },
  {
   "cell_type": "markdown",
   "metadata": {},
   "source": [
    "However, there is a problem. A movie can make it to the top of the above list even if only a single user has given it five stars. Therefore, the above stats can be misleading. Normally, a movie which is really a good one gets a higher rating by a large number of users.\n",
    "\n",
    "Let's now plot the total number of ratings for a movie:"
   ]
  },
  {
   "cell_type": "code",
   "execution_count": 11,
   "metadata": {},
   "outputs": [
    {
     "data": {
      "text/plain": [
       "Movie_Id\n",
       "5317     232944\n",
       "15124    216596\n",
       "14313    200832\n",
       "15205    196397\n",
       "1905     193941\n",
       "Name: Rating, dtype: int64"
      ]
     },
     "execution_count": 11,
     "metadata": {},
     "output_type": "execute_result"
    }
   ],
   "source": [
    "data.groupby('Movie_Id')['Rating'].count().sort_values(ascending=False).head()"
   ]
  },
  {
   "cell_type": "markdown",
   "metadata": {},
   "source": [
    "Now you can see some really good movies at the top. The above list supports our point that good movies normally receive higher ratings. Now we know that both the average rating per movie and the number of ratings per movie are important attributes."
   ]
  },
  {
   "cell_type": "code",
   "execution_count": 12,
   "metadata": {},
   "outputs": [
    {
     "data": {
      "text/html": [
       "<div>\n",
       "<style scoped>\n",
       "    .dataframe tbody tr th:only-of-type {\n",
       "        vertical-align: middle;\n",
       "    }\n",
       "\n",
       "    .dataframe tbody tr th {\n",
       "        vertical-align: top;\n",
       "    }\n",
       "\n",
       "    .dataframe thead th {\n",
       "        text-align: right;\n",
       "    }\n",
       "</style>\n",
       "<table border=\"1\" class=\"dataframe\">\n",
       "  <thead>\n",
       "    <tr style=\"text-align: right;\">\n",
       "      <th></th>\n",
       "      <th>Rating</th>\n",
       "      <th>rating_counts</th>\n",
       "    </tr>\n",
       "    <tr>\n",
       "      <th>Movie_Id</th>\n",
       "      <th></th>\n",
       "      <th></th>\n",
       "    </tr>\n",
       "  </thead>\n",
       "  <tbody>\n",
       "    <tr>\n",
       "      <td>1</td>\n",
       "      <td>3.749543</td>\n",
       "      <td>547</td>\n",
       "    </tr>\n",
       "    <tr>\n",
       "      <td>2</td>\n",
       "      <td>3.558621</td>\n",
       "      <td>145</td>\n",
       "    </tr>\n",
       "    <tr>\n",
       "      <td>3</td>\n",
       "      <td>3.641153</td>\n",
       "      <td>2012</td>\n",
       "    </tr>\n",
       "    <tr>\n",
       "      <td>4</td>\n",
       "      <td>2.739437</td>\n",
       "      <td>142</td>\n",
       "    </tr>\n",
       "    <tr>\n",
       "      <td>5</td>\n",
       "      <td>3.919298</td>\n",
       "      <td>1140</td>\n",
       "    </tr>\n",
       "  </tbody>\n",
       "</table>\n",
       "</div>"
      ],
      "text/plain": [
       "            Rating  rating_counts\n",
       "Movie_Id                         \n",
       "1         3.749543            547\n",
       "2         3.558621            145\n",
       "3         3.641153           2012\n",
       "4         2.739437            142\n",
       "5         3.919298           1140"
      ]
     },
     "execution_count": 12,
     "metadata": {},
     "output_type": "execute_result"
    }
   ],
   "source": [
    "ratings_mean_count = pd.DataFrame(data.groupby('Movie_Id')['Rating'].mean())\n",
    "ratings_mean_count['rating_counts'] = pd.DataFrame(data.groupby('Movie_Id')['Rating'].count())\n",
    "ratings_mean_count.head()"
   ]
  },
  {
   "cell_type": "markdown",
   "metadata": {},
   "source": [
    "Let's plot a histogram for the number of ratings represented by the \"rating_counts\" column in the above dataframe."
   ]
  },
  {
   "cell_type": "code",
   "execution_count": 13,
   "metadata": {},
   "outputs": [
    {
     "data": {
      "text/plain": [
       "<matplotlib.axes._subplots.AxesSubplot at 0x2960045b208>"
      ]
     },
     "execution_count": 13,
     "metadata": {},
     "output_type": "execute_result"
    },
    {
     "data": {
      "image/png": "[encoded data removed]",
      "text/plain": [
       "<Figure size 576x432 with 1 Axes>"
      ]
     },
     "metadata": {
      "needs_background": "light"
     },
     "output_type": "display_data"
    }
   ],
   "source": [
    "plt.figure(figsize=(8,6))\n",
    "plt.rcParams['patch.force_edgecolor'] = True\n",
    "ratings_mean_count['rating_counts'].hist()"
   ]
  },
  {
   "cell_type": "markdown",
   "metadata": {},
   "source": [
    "From the output, we can see that most of the movies have received less than 25000 ratings. While the number of movies having more than 50000 ratings is very low.\n",
    "\n",
    "Now we'll plot a histogram for average ratings. Here is the code to do so:"
   ]
  },
  {
   "cell_type": "markdown",
   "metadata": {},
   "source": [
    "Let's now do the same thing with \"Cust_Id\""
   ]
  },
  {
   "cell_type": "code",
   "execution_count": 14,
   "metadata": {},
   "outputs": [
    {
     "data": {
      "text/plain": [
       "Cust_Id\n",
       "305344     17653\n",
       "387418     17436\n",
       "2439493    16565\n",
       "1664010    15813\n",
       "2118461    14831\n",
       "Name: Rating, dtype: int64"
      ]
     },
     "execution_count": 14,
     "metadata": {},
     "output_type": "execute_result"
    }
   ],
   "source": [
    "data.groupby('Cust_Id')['Rating'].count().sort_values(ascending=False).head()"
   ]
  },
  {
   "cell_type": "code",
   "execution_count": 15,
   "metadata": {},
   "outputs": [
    {
     "data": {
      "text/plain": [
       "Cust_Id\n",
       "6     3.418530\n",
       "7     4.011351\n",
       "8     4.214286\n",
       "10    3.392308\n",
       "25    3.481481\n",
       "Name: Rating, dtype: float64"
      ]
     },
     "execution_count": 15,
     "metadata": {},
     "output_type": "execute_result"
    }
   ],
   "source": [
    "data.groupby('Cust_Id')['Rating'].mean().head()"
   ]
  },
  {
   "cell_type": "code",
   "execution_count": 16,
   "metadata": {},
   "outputs": [
    {
     "data": {
      "text/html": [
       "<div>\n",
       "<style scoped>\n",
       "    .dataframe tbody tr th:only-of-type {\n",
       "        vertical-align: middle;\n",
       "    }\n",
       "\n",
       "    .dataframe tbody tr th {\n",
       "        vertical-align: top;\n",
       "    }\n",
       "\n",
       "    .dataframe thead th {\n",
       "        text-align: right;\n",
       "    }\n",
       "</style>\n",
       "<table border=\"1\" class=\"dataframe\">\n",
       "  <thead>\n",
       "    <tr style=\"text-align: right;\">\n",
       "      <th></th>\n",
       "      <th>Rating</th>\n",
       "      <th>rating_counts</th>\n",
       "    </tr>\n",
       "    <tr>\n",
       "      <th>Cust_Id</th>\n",
       "      <th></th>\n",
       "      <th></th>\n",
       "    </tr>\n",
       "  </thead>\n",
       "  <tbody>\n",
       "    <tr>\n",
       "      <td>6</td>\n",
       "      <td>3.418530</td>\n",
       "      <td>626</td>\n",
       "    </tr>\n",
       "    <tr>\n",
       "      <td>7</td>\n",
       "      <td>4.011351</td>\n",
       "      <td>881</td>\n",
       "    </tr>\n",
       "    <tr>\n",
       "      <td>8</td>\n",
       "      <td>4.214286</td>\n",
       "      <td>98</td>\n",
       "    </tr>\n",
       "    <tr>\n",
       "      <td>10</td>\n",
       "      <td>3.392308</td>\n",
       "      <td>260</td>\n",
       "    </tr>\n",
       "    <tr>\n",
       "      <td>25</td>\n",
       "      <td>3.481481</td>\n",
       "      <td>27</td>\n",
       "    </tr>\n",
       "  </tbody>\n",
       "</table>\n",
       "</div>"
      ],
      "text/plain": [
       "           Rating  rating_counts\n",
       "Cust_Id                         \n",
       "6        3.418530            626\n",
       "7        4.011351            881\n",
       "8        4.214286             98\n",
       "10       3.392308            260\n",
       "25       3.481481             27"
      ]
     },
     "execution_count": 16,
     "metadata": {},
     "output_type": "execute_result"
    }
   ],
   "source": [
    "customer_mean_count = pd.DataFrame(data.groupby('Cust_Id')['Rating'].mean())\n",
    "customer_mean_count['rating_counts'] = pd.DataFrame(data.groupby('Cust_Id')['Rating'].count())\n",
    "customer_mean_count.head()"
   ]
  },
  {
   "cell_type": "code",
   "execution_count": 17,
   "metadata": {},
   "outputs": [
    {
     "data": {
      "text/plain": [
       "<matplotlib.axes._subplots.AxesSubplot at 0x2960d8c17c8>"
      ]
     },
     "execution_count": 17,
     "metadata": {},
     "output_type": "execute_result"
    },
    {
     "data": {
      "image/png": "[encoded data removed]",
      "text/plain": [
       "<Figure size 576x432 with 1 Axes>"
      ]
     },
     "metadata": {
      "needs_background": "light"
     },
     "output_type": "display_data"
    }
   ],
   "source": [
    "plt.figure(figsize=(8,6))\n",
    "plt.rcParams['patch.force_edgecolor'] = True\n",
    "customer_mean_count['rating_counts'].hist(bins=50)"
   ]
  },
  {
   "cell_type": "markdown",
   "metadata": {},
   "source": [
    "From the output, we can see that most of the customer gave the less ratings (same reasoning as \"Movie_Id\").\n",
    "\n",
    "Since the data is super huge, we had many times a memory error, so according to the results shown above, we opted for data reducing by removing :\n",
    "\n",
    "    *Less reviews movies\n",
    "    *Customer who give too less ratings"
   ]
  },
  {
   "cell_type": "code",
   "execution_count": 18,
   "metadata": {},
   "outputs": [
    {
     "name": "stdout",
     "output_type": "stream",
     "text": [
      "Less reviews movies: 1948.0\n",
      "Customers who give too less ratings: 211.0\n"
     ]
    }
   ],
   "source": [
    "ratings_mean_count.index = ratings_mean_count.index.map(int)\n",
    "movie_benchmark = round(ratings_mean_count['rating_counts'].quantile(0.7),0)\n",
    "drop_movie_list = ratings_mean_count[ratings_mean_count['rating_counts'] < movie_benchmark].index\n",
    "\n",
    "print('Less reviews movies: {}'.format(movie_benchmark))\n",
    "\n",
    "customer_mean_count.index = customer_mean_count.index.map(int)\n",
    "cust_benchmark = round(customer_mean_count['rating_counts'].quantile(0.7),0)\n",
    "drop_cust_list = customer_mean_count[customer_mean_count['rating_counts'] < cust_benchmark].index\n",
    "\n",
    "print('Customers who give too less ratings: {}'.format(cust_benchmark))"
   ]
  },
  {
   "cell_type": "markdown",
   "metadata": {},
   "source": [
    "Now, lets compare the sizes of the original data and the new one"
   ]
  },
  {
   "cell_type": "code",
   "execution_count": 19,
   "metadata": {},
   "outputs": [
    {
     "name": "stdout",
     "output_type": "stream",
     "text": [
      "Original Data: (100480507, 3)\n",
      "New Data: (71833509, 3)\n"
     ]
    }
   ],
   "source": [
    "print('Original Data: {}'.format(data.shape))\n",
    "data = data[~data['Movie_Id'].isin(drop_movie_list)]\n",
    "data = data[~data['Cust_Id'].isin(drop_cust_list)]\n",
    "print('New Data: {}'.format(data.shape))"
   ]
  },
  {
   "cell_type": "markdown",
   "metadata": {},
   "source": [
    "## Recommendation models"
   ]
  },
  {
   "cell_type": "markdown",
   "metadata": {},
   "source": [
    "Our Data is loaded and cleaned, so let's get into the recommendation system.\n",
    "We will implement a first model called Collaborative Filtering and seconde one based on Pearsons' R correlations."
   ]
  },
  {
   "cell_type": "markdown",
   "metadata": {},
   "source": [
    "### User-Based Collaborative Filtering"
   ]
  },
  {
   "cell_type": "markdown",
   "metadata": {},
   "source": [
    "Collaborative Filtering involves suggesting movies to the users that are based on collecting preferences from many other users. \n",
    "For example, if a user A likes to watch action films and so does user B, then the movies that the user B will watch \n",
    "in the future will be recommended to A and vice-versa. \n",
    "Therefore, recommending movies is dependent on creating a relationship of similarity between the two users. "
   ]
  },
  {
   "cell_type": "markdown",
   "metadata": {},
   "source": [
    "We will use the train_test_split() to sample a trainset and a testset with given sizes, and use the accuracy metric of our chosing. we’ll need to use the fit() method which will train the algorithm on the trainset, and the test() method which will return the predictions made from the testset:"
   ]
  },
  {
   "cell_type": "code",
   "execution_count": 20,
   "metadata": {},
   "outputs": [],
   "source": [
    "# Load the dataset\n",
    "reader=Reader()\n",
    "dataBis = Dataset.load_from_df(data[['Cust_Id', 'Movie_Id', 'Rating']][:10000000], reader)\n",
    "\n",
    "# sample random trainset and testset\n",
    "# test set is made of 25% of the ratings.\n",
    "trainset, testset = train_test_split(dataBis, test_size=.25)"
   ]
  },
  {
   "cell_type": "markdown",
   "metadata": {},
   "source": [
    "Next, we will build our model using 3 algorithms : SVD, BaselineOnly and NormalPredictor, and compare their RMSE\n",
    "\n",
    "Let's start with the famous SVD algorithm"
   ]
  },
  {
   "cell_type": "code",
   "execution_count": 21,
   "metadata": {},
   "outputs": [
    {
     "name": "stdout",
     "output_type": "stream",
     "text": [
      "The RMSE: \n",
      "RMSE: 0.8699\n"
     ]
    },
    {
     "data": {
      "text/plain": [
       "0.869895202421739"
      ]
     },
     "execution_count": 21,
     "metadata": {},
     "output_type": "execute_result"
    }
   ],
   "source": [
    "# SVD algorithm.\n",
    "algo = SVD()\n",
    "\n",
    "# Train the algorithm on the trainset, and predict ratings for the testset\n",
    "algo.fit(trainset)\n",
    "predictions = algo.test(testset)\n",
    "\n",
    "# Then compute RMSE\n",
    "print(\"The RMSE: \")\n",
    "accuracy.rmse(predictions)"
   ]
  },
  {
   "cell_type": "code",
   "execution_count": 22,
   "metadata": {},
   "outputs": [
    {
     "name": "stdout",
     "output_type": "stream",
     "text": [
      "Estimating biases using als...\n",
      "The RMSE : \n",
      "RMSE: 0.9109\n"
     ]
    },
    {
     "data": {
      "text/plain": [
       "0.9108521343261852"
      ]
     },
     "execution_count": 22,
     "metadata": {},
     "output_type": "execute_result"
    }
   ],
   "source": [
    "# BaselineOnly algorithm.\n",
    "algo_BL = BaselineOnly()\n",
    "\n",
    "# Train the algorithm on the trainset, and predict ratings for the testset\n",
    "algo_BL.fit(trainset)\n",
    "predictions_BL = algo_BL.test(testset)\n",
    "\n",
    "# Then compute RMSE\n",
    "print(\"The RMSE : \")\n",
    "accuracy.rmse(predictions_BL)"
   ]
  },
  {
   "cell_type": "code",
   "execution_count": 79,
   "metadata": {},
   "outputs": [
    {
     "name": "stdout",
     "output_type": "stream",
     "text": [
      "The RMSE : \n",
      "RMSE: 1.4292\n"
     ]
    },
    {
     "data": {
      "text/plain": [
       "1.4291720842960218"
      ]
     },
     "execution_count": 79,
     "metadata": {},
     "output_type": "execute_result"
    }
   ],
   "source": [
    "# NormalPredictor algorithm.\n",
    "algo_NP = NormalPredictor()\n",
    "\n",
    "# Train the algorithm on the trainset, and predict ratings for the testset\n",
    "algo_NP.fit(trainset)\n",
    "predictions_NP = algo_NP.test(testset)\n",
    "\n",
    "# Then compute RMSE\n",
    "print(\"The RMSE : \")\n",
    "accuracy.rmse(predictions_NP)"
   ]
  },
  {
   "cell_type": "markdown",
   "metadata": {},
   "source": [
    "According to the results above :\n",
    "\n",
    "The algorithm with the best performance is SVD which reduced the error (RMSE) to 0.87.\n",
    "\n",
    "PS : To apply SVD algorithm we had a memory error even when we used just 30000000 rows of our data, so we were obliged to use only 10000000 rows of the data.\n",
    "\n",
    "So now, we will do the prediction using SVD"
   ]
  },
  {
   "cell_type": "markdown",
   "metadata": {},
   "source": [
    "#### Prediction"
   ]
  },
  {
   "cell_type": "markdown",
   "metadata": {},
   "source": [
    "To inspect our predictions in details, we are going to build a pandas data frame with all the predictions.\n",
    "We will create 2 functions : \n",
    "\n",
    "     get_scoreU : takes as arguments Cust_Id and returns the number of movies rated by him (user).\n",
    "     get_userS : takes as arguements Movie_Id and returns the number of users that have rated its (movie)"
   ]
  },
  {
   "cell_type": "code",
   "execution_count": 23,
   "metadata": {},
   "outputs": [],
   "source": [
    "def get_scoreU(cid):\n",
    "    try:\n",
    "        return len(trainset.ur[trainset.to_inner_uid(cid)])\n",
    "    except ValueError:  # if user was not part of the trainset\n",
    "        return 0\n",
    "    \n",
    "def get_userS(mid):\n",
    "    try:\n",
    "        return len(trainset.ir[trainset.to_inner_iid(mid)])\n",
    "    except ValueError:  # if item was not part of the trainset\n",
    "        return 0"
   ]
  },
  {
   "cell_type": "code",
   "execution_count": 73,
   "metadata": {},
   "outputs": [],
   "source": [
    " df = pd.DataFrame(predictions, columns=['Cust_Id', 'Movie_Id', 'Rating', 'PRating','details']) \n",
    "df['Su'] = df.Cust_Id.apply(get_scoreU)\n",
    "df['Ms'] = df.Movie_Id.apply(get_userS)\n",
    "df['err'] = abs(df.PRating - df.Rating)"
   ]
  },
  {
   "cell_type": "code",
   "execution_count": 74,
   "metadata": {},
   "outputs": [
    {
     "data": {
      "text/html": [
       "<div>\n",
       "<style scoped>\n",
       "    .dataframe tbody tr th:only-of-type {\n",
       "        vertical-align: middle;\n",
       "    }\n",
       "\n",
       "    .dataframe tbody tr th {\n",
       "        vertical-align: top;\n",
       "    }\n",
       "\n",
       "    .dataframe thead th {\n",
       "        text-align: right;\n",
       "    }\n",
       "</style>\n",
       "<table border=\"1\" class=\"dataframe\">\n",
       "  <thead>\n",
       "    <tr style=\"text-align: right;\">\n",
       "      <th></th>\n",
       "      <th>Cust_Id</th>\n",
       "      <th>Movie_Id</th>\n",
       "      <th>Rating</th>\n",
       "      <th>PRating</th>\n",
       "      <th>details</th>\n",
       "      <th>Su</th>\n",
       "      <th>Ms</th>\n",
       "      <th>err</th>\n",
       "    </tr>\n",
       "  </thead>\n",
       "  <tbody>\n",
       "    <tr>\n",
       "      <td>0</td>\n",
       "      <td>2108785</td>\n",
       "      <td>2452</td>\n",
       "      <td>5.0</td>\n",
       "      <td>4.522368</td>\n",
       "      <td>{'was_impossible': False}</td>\n",
       "      <td>53</td>\n",
       "      <td>77393</td>\n",
       "      <td>0.477632</td>\n",
       "    </tr>\n",
       "    <tr>\n",
       "      <td>1</td>\n",
       "      <td>1658961</td>\n",
       "      <td>1466</td>\n",
       "      <td>5.0</td>\n",
       "      <td>3.273799</td>\n",
       "      <td>{'was_impossible': False}</td>\n",
       "      <td>53</td>\n",
       "      <td>23499</td>\n",
       "      <td>1.726201</td>\n",
       "    </tr>\n",
       "    <tr>\n",
       "      <td>2</td>\n",
       "      <td>2273811</td>\n",
       "      <td>1282</td>\n",
       "      <td>2.0</td>\n",
       "      <td>2.075102</td>\n",
       "      <td>{'was_impossible': False}</td>\n",
       "      <td>50</td>\n",
       "      <td>1480</td>\n",
       "      <td>0.075102</td>\n",
       "    </tr>\n",
       "    <tr>\n",
       "      <td>3</td>\n",
       "      <td>2393992</td>\n",
       "      <td>1066</td>\n",
       "      <td>3.0</td>\n",
       "      <td>3.212307</td>\n",
       "      <td>{'was_impossible': False}</td>\n",
       "      <td>28</td>\n",
       "      <td>24470</td>\n",
       "      <td>0.212307</td>\n",
       "    </tr>\n",
       "    <tr>\n",
       "      <td>4</td>\n",
       "      <td>1535491</td>\n",
       "      <td>2391</td>\n",
       "      <td>4.0</td>\n",
       "      <td>2.841939</td>\n",
       "      <td>{'was_impossible': False}</td>\n",
       "      <td>52</td>\n",
       "      <td>49648</td>\n",
       "      <td>1.158061</td>\n",
       "    </tr>\n",
       "  </tbody>\n",
       "</table>\n",
       "</div>"
      ],
      "text/plain": [
       "   Cust_Id  Movie_Id  Rating   PRating                    details  Su     Ms  \\\n",
       "0  2108785      2452     5.0  4.522368  {'was_impossible': False}  53  77393   \n",
       "1  1658961      1466     5.0  3.273799  {'was_impossible': False}  53  23499   \n",
       "2  2273811      1282     2.0  2.075102  {'was_impossible': False}  50   1480   \n",
       "3  2393992      1066     3.0  3.212307  {'was_impossible': False}  28  24470   \n",
       "4  1535491      2391     4.0  2.841939  {'was_impossible': False}  52  49648   \n",
       "\n",
       "        err  \n",
       "0  0.477632  \n",
       "1  1.726201  \n",
       "2  0.075102  \n",
       "3  0.212307  \n",
       "4  1.158061  "
      ]
     },
     "execution_count": 74,
     "metadata": {},
     "output_type": "execute_result"
    }
   ],
   "source": [
    "df.head()"
   ]
  },
  {
   "cell_type": "code",
   "execution_count": 75,
   "metadata": {},
   "outputs": [],
   "source": [
    "best_predictions = df.sort_values(by='err')[:10]\n",
    "worst_predictions = df.sort_values(by='err')[-10:]"
   ]
  },
  {
   "cell_type": "code",
   "execution_count": 76,
   "metadata": {},
   "outputs": [
    {
     "data": {
      "text/html": [
       "<div>\n",
       "<style scoped>\n",
       "    .dataframe tbody tr th:only-of-type {\n",
       "        vertical-align: middle;\n",
       "    }\n",
       "\n",
       "    .dataframe tbody tr th {\n",
       "        vertical-align: top;\n",
       "    }\n",
       "\n",
       "    .dataframe thead th {\n",
       "        text-align: right;\n",
       "    }\n",
       "</style>\n",
       "<table border=\"1\" class=\"dataframe\">\n",
       "  <thead>\n",
       "    <tr style=\"text-align: right;\">\n",
       "      <th></th>\n",
       "      <th>Cust_Id</th>\n",
       "      <th>Movie_Id</th>\n",
       "      <th>Rating</th>\n",
       "      <th>PRating</th>\n",
       "      <th>details</th>\n",
       "      <th>Su</th>\n",
       "      <th>Ms</th>\n",
       "      <th>err</th>\n",
       "    </tr>\n",
       "  </thead>\n",
       "  <tbody>\n",
       "    <tr>\n",
       "      <td>2142607</td>\n",
       "      <td>626901</td>\n",
       "      <td>577</td>\n",
       "      <td>5.0</td>\n",
       "      <td>5.0</td>\n",
       "      <td>{'was_impossible': False}</td>\n",
       "      <td>27</td>\n",
       "      <td>1488</td>\n",
       "      <td>0.0</td>\n",
       "    </tr>\n",
       "    <tr>\n",
       "      <td>2365646</td>\n",
       "      <td>496853</td>\n",
       "      <td>1615</td>\n",
       "      <td>5.0</td>\n",
       "      <td>5.0</td>\n",
       "      <td>{'was_impossible': False}</td>\n",
       "      <td>47</td>\n",
       "      <td>37721</td>\n",
       "      <td>0.0</td>\n",
       "    </tr>\n",
       "    <tr>\n",
       "      <td>1990565</td>\n",
       "      <td>2333692</td>\n",
       "      <td>658</td>\n",
       "      <td>5.0</td>\n",
       "      <td>5.0</td>\n",
       "      <td>{'was_impossible': False}</td>\n",
       "      <td>63</td>\n",
       "      <td>30116</td>\n",
       "      <td>0.0</td>\n",
       "    </tr>\n",
       "    <tr>\n",
       "      <td>663891</td>\n",
       "      <td>2500476</td>\n",
       "      <td>1625</td>\n",
       "      <td>5.0</td>\n",
       "      <td>5.0</td>\n",
       "      <td>{'was_impossible': False}</td>\n",
       "      <td>28</td>\n",
       "      <td>28914</td>\n",
       "      <td>0.0</td>\n",
       "    </tr>\n",
       "    <tr>\n",
       "      <td>1381147</td>\n",
       "      <td>2634757</td>\n",
       "      <td>2452</td>\n",
       "      <td>5.0</td>\n",
       "      <td>5.0</td>\n",
       "      <td>{'was_impossible': False}</td>\n",
       "      <td>28</td>\n",
       "      <td>77393</td>\n",
       "      <td>0.0</td>\n",
       "    </tr>\n",
       "    <tr>\n",
       "      <td>1406494</td>\n",
       "      <td>2531675</td>\n",
       "      <td>2532</td>\n",
       "      <td>5.0</td>\n",
       "      <td>5.0</td>\n",
       "      <td>{'was_impossible': False}</td>\n",
       "      <td>69</td>\n",
       "      <td>8084</td>\n",
       "      <td>0.0</td>\n",
       "    </tr>\n",
       "    <tr>\n",
       "      <td>351610</td>\n",
       "      <td>1750288</td>\n",
       "      <td>1799</td>\n",
       "      <td>5.0</td>\n",
       "      <td>5.0</td>\n",
       "      <td>{'was_impossible': False}</td>\n",
       "      <td>74</td>\n",
       "      <td>38671</td>\n",
       "      <td>0.0</td>\n",
       "    </tr>\n",
       "    <tr>\n",
       "      <td>1185464</td>\n",
       "      <td>291503</td>\n",
       "      <td>1220</td>\n",
       "      <td>5.0</td>\n",
       "      <td>5.0</td>\n",
       "      <td>{'was_impossible': False}</td>\n",
       "      <td>129</td>\n",
       "      <td>57860</td>\n",
       "      <td>0.0</td>\n",
       "    </tr>\n",
       "    <tr>\n",
       "      <td>1052207</td>\n",
       "      <td>1451860</td>\n",
       "      <td>2114</td>\n",
       "      <td>5.0</td>\n",
       "      <td>5.0</td>\n",
       "      <td>{'was_impossible': False}</td>\n",
       "      <td>73</td>\n",
       "      <td>6026</td>\n",
       "      <td>0.0</td>\n",
       "    </tr>\n",
       "    <tr>\n",
       "      <td>1406496</td>\n",
       "      <td>1451649</td>\n",
       "      <td>1947</td>\n",
       "      <td>5.0</td>\n",
       "      <td>5.0</td>\n",
       "      <td>{'was_impossible': False}</td>\n",
       "      <td>42</td>\n",
       "      <td>2815</td>\n",
       "      <td>0.0</td>\n",
       "    </tr>\n",
       "  </tbody>\n",
       "</table>\n",
       "</div>"
      ],
      "text/plain": [
       "         Cust_Id  Movie_Id  Rating  PRating                    details   Su  \\\n",
       "2142607   626901       577     5.0      5.0  {'was_impossible': False}   27   \n",
       "2365646   496853      1615     5.0      5.0  {'was_impossible': False}   47   \n",
       "1990565  2333692       658     5.0      5.0  {'was_impossible': False}   63   \n",
       "663891   2500476      1625     5.0      5.0  {'was_impossible': False}   28   \n",
       "1381147  2634757      2452     5.0      5.0  {'was_impossible': False}   28   \n",
       "1406494  2531675      2532     5.0      5.0  {'was_impossible': False}   69   \n",
       "351610   1750288      1799     5.0      5.0  {'was_impossible': False}   74   \n",
       "1185464   291503      1220     5.0      5.0  {'was_impossible': False}  129   \n",
       "1052207  1451860      2114     5.0      5.0  {'was_impossible': False}   73   \n",
       "1406496  1451649      1947     5.0      5.0  {'was_impossible': False}   42   \n",
       "\n",
       "            Ms  err  \n",
       "2142607   1488  0.0  \n",
       "2365646  37721  0.0  \n",
       "1990565  30116  0.0  \n",
       "663891   28914  0.0  \n",
       "1381147  77393  0.0  \n",
       "1406494   8084  0.0  \n",
       "351610   38671  0.0  \n",
       "1185464  57860  0.0  \n",
       "1052207   6026  0.0  \n",
       "1406496   2815  0.0  "
      ]
     },
     "execution_count": 76,
     "metadata": {},
     "output_type": "execute_result"
    }
   ],
   "source": [
    "best_predictions"
   ]
  },
  {
   "cell_type": "markdown",
   "metadata": {},
   "source": [
    "The best predictions above are not lucky guesses. Because for every movie in this list the Ms (Number of users that have rated its) isn't small, it's highly enough, this means that significant number of users have rated the movie."
   ]
  },
  {
   "cell_type": "code",
   "execution_count": 77,
   "metadata": {},
   "outputs": [
    {
     "data": {
      "text/html": [
       "<div>\n",
       "<style scoped>\n",
       "    .dataframe tbody tr th:only-of-type {\n",
       "        vertical-align: middle;\n",
       "    }\n",
       "\n",
       "    .dataframe tbody tr th {\n",
       "        vertical-align: top;\n",
       "    }\n",
       "\n",
       "    .dataframe thead th {\n",
       "        text-align: right;\n",
       "    }\n",
       "</style>\n",
       "<table border=\"1\" class=\"dataframe\">\n",
       "  <thead>\n",
       "    <tr style=\"text-align: right;\">\n",
       "      <th></th>\n",
       "      <th>Cust_Id</th>\n",
       "      <th>Movie_Id</th>\n",
       "      <th>Rating</th>\n",
       "      <th>PRating</th>\n",
       "      <th>details</th>\n",
       "      <th>Su</th>\n",
       "      <th>Ms</th>\n",
       "      <th>err</th>\n",
       "    </tr>\n",
       "  </thead>\n",
       "  <tbody>\n",
       "    <tr>\n",
       "      <td>1277332</td>\n",
       "      <td>1633216</td>\n",
       "      <td>725</td>\n",
       "      <td>1.0</td>\n",
       "      <td>5.0</td>\n",
       "      <td>{'was_impossible': False}</td>\n",
       "      <td>65</td>\n",
       "      <td>2226</td>\n",
       "      <td>4.0</td>\n",
       "    </tr>\n",
       "    <tr>\n",
       "      <td>1469819</td>\n",
       "      <td>291407</td>\n",
       "      <td>2551</td>\n",
       "      <td>1.0</td>\n",
       "      <td>5.0</td>\n",
       "      <td>{'was_impossible': False}</td>\n",
       "      <td>42</td>\n",
       "      <td>2808</td>\n",
       "      <td>4.0</td>\n",
       "    </tr>\n",
       "    <tr>\n",
       "      <td>722850</td>\n",
       "      <td>128372</td>\n",
       "      <td>2372</td>\n",
       "      <td>1.0</td>\n",
       "      <td>5.0</td>\n",
       "      <td>{'was_impossible': False}</td>\n",
       "      <td>54</td>\n",
       "      <td>63727</td>\n",
       "      <td>4.0</td>\n",
       "    </tr>\n",
       "    <tr>\n",
       "      <td>1275528</td>\n",
       "      <td>942289</td>\n",
       "      <td>1110</td>\n",
       "      <td>1.0</td>\n",
       "      <td>5.0</td>\n",
       "      <td>{'was_impossible': False}</td>\n",
       "      <td>21</td>\n",
       "      <td>44753</td>\n",
       "      <td>4.0</td>\n",
       "    </tr>\n",
       "    <tr>\n",
       "      <td>2339285</td>\n",
       "      <td>508379</td>\n",
       "      <td>1495</td>\n",
       "      <td>1.0</td>\n",
       "      <td>5.0</td>\n",
       "      <td>{'was_impossible': False}</td>\n",
       "      <td>68</td>\n",
       "      <td>9141</td>\n",
       "      <td>4.0</td>\n",
       "    </tr>\n",
       "    <tr>\n",
       "      <td>1730884</td>\n",
       "      <td>2447578</td>\n",
       "      <td>270</td>\n",
       "      <td>1.0</td>\n",
       "      <td>5.0</td>\n",
       "      <td>{'was_impossible': False}</td>\n",
       "      <td>22</td>\n",
       "      <td>18875</td>\n",
       "      <td>4.0</td>\n",
       "    </tr>\n",
       "    <tr>\n",
       "      <td>2181369</td>\n",
       "      <td>2315012</td>\n",
       "      <td>1877</td>\n",
       "      <td>1.0</td>\n",
       "      <td>5.0</td>\n",
       "      <td>{'was_impossible': False}</td>\n",
       "      <td>313</td>\n",
       "      <td>17245</td>\n",
       "      <td>4.0</td>\n",
       "    </tr>\n",
       "    <tr>\n",
       "      <td>408047</td>\n",
       "      <td>1028463</td>\n",
       "      <td>133</td>\n",
       "      <td>1.0</td>\n",
       "      <td>5.0</td>\n",
       "      <td>{'was_impossible': False}</td>\n",
       "      <td>384</td>\n",
       "      <td>1517</td>\n",
       "      <td>4.0</td>\n",
       "    </tr>\n",
       "    <tr>\n",
       "      <td>1857344</td>\n",
       "      <td>735560</td>\n",
       "      <td>638</td>\n",
       "      <td>1.0</td>\n",
       "      <td>5.0</td>\n",
       "      <td>{'was_impossible': False}</td>\n",
       "      <td>131</td>\n",
       "      <td>2789</td>\n",
       "      <td>4.0</td>\n",
       "    </tr>\n",
       "    <tr>\n",
       "      <td>374181</td>\n",
       "      <td>509431</td>\n",
       "      <td>270</td>\n",
       "      <td>1.0</td>\n",
       "      <td>5.0</td>\n",
       "      <td>{'was_impossible': False}</td>\n",
       "      <td>22</td>\n",
       "      <td>18875</td>\n",
       "      <td>4.0</td>\n",
       "    </tr>\n",
       "  </tbody>\n",
       "</table>\n",
       "</div>"
      ],
      "text/plain": [
       "         Cust_Id  Movie_Id  Rating  PRating                    details   Su  \\\n",
       "1277332  1633216       725     1.0      5.0  {'was_impossible': False}   65   \n",
       "1469819   291407      2551     1.0      5.0  {'was_impossible': False}   42   \n",
       "722850    128372      2372     1.0      5.0  {'was_impossible': False}   54   \n",
       "1275528   942289      1110     1.0      5.0  {'was_impossible': False}   21   \n",
       "2339285   508379      1495     1.0      5.0  {'was_impossible': False}   68   \n",
       "1730884  2447578       270     1.0      5.0  {'was_impossible': False}   22   \n",
       "2181369  2315012      1877     1.0      5.0  {'was_impossible': False}  313   \n",
       "408047   1028463       133     1.0      5.0  {'was_impossible': False}  384   \n",
       "1857344   735560       638     1.0      5.0  {'was_impossible': False}  131   \n",
       "374181    509431       270     1.0      5.0  {'was_impossible': False}   22   \n",
       "\n",
       "            Ms  err  \n",
       "1277332   2226  4.0  \n",
       "1469819   2808  4.0  \n",
       "722850   63727  4.0  \n",
       "1275528  44753  4.0  \n",
       "2339285   9141  4.0  \n",
       "1730884  18875  4.0  \n",
       "2181369  17245  4.0  \n",
       "408047    1517  4.0  \n",
       "1857344   2789  4.0  \n",
       "374181   18875  4.0  "
      ]
     },
     "execution_count": 77,
     "metadata": {},
     "output_type": "execute_result"
    }
   ],
   "source": [
    "worst_predictions"
   ]
  },
  {
   "cell_type": "markdown",
   "metadata": {},
   "source": [
    "The worst predictions look pretty surprise. For example, every movie in this list was given score 5 by the SVD algorithm while it has been rated 1.\n",
    "From a technical point of vue, this is normal because each prediction algorithm has an error rate that must be taken in to account in the analysis of the results."
   ]
  },
  {
   "cell_type": "markdown",
   "metadata": {},
   "source": [
    "##### Prediction for a user picked randomly"
   ]
  },
  {
   "cell_type": "markdown",
   "metadata": {},
   "source": [
    "Now we will pick a customer Id randomly, we first print list of movies that he liked in the past and then predict which movie he would like to watch."
   ]
  },
  {
   "cell_type": "code",
   "execution_count": 113,
   "metadata": {},
   "outputs": [
    {
     "name": "stdout",
     "output_type": "stream",
     "text": [
      "Movie_Id\n",
      "3            Character\n",
      "16           Screamers\n",
      "18    Immortal Beloved\n",
      "26     Never Die Alone\n",
      "28     Lilo and Stitch\n",
      "Name: Name, dtype: object\n"
     ]
    }
   ],
   "source": [
    "#Movies liked in the past\n",
    "df_cust_1664010 = data[(data['Cust_Id'] == 1664010) & (data['Rating'] == 5)]\n",
    "df_cust_1664010 = df_cust_1664010.set_index('Movie_Id')\n",
    "df_cust_1664010 = df_cust_1664010.join(data_movie)['Name']\n",
    "print(df_cust_1664010.head())"
   ]
  },
  {
   "cell_type": "code",
   "execution_count": 114,
   "metadata": {},
   "outputs": [
    {
     "data": {
      "text/html": [
       "<div>\n",
       "<style scoped>\n",
       "    .dataframe tbody tr th:only-of-type {\n",
       "        vertical-align: middle;\n",
       "    }\n",
       "\n",
       "    .dataframe tbody tr th {\n",
       "        vertical-align: top;\n",
       "    }\n",
       "\n",
       "    .dataframe thead th {\n",
       "        text-align: right;\n",
       "    }\n",
       "</style>\n",
       "<table border=\"1\" class=\"dataframe\">\n",
       "  <thead>\n",
       "    <tr style=\"text-align: right;\">\n",
       "      <th></th>\n",
       "      <th>Movie_Id</th>\n",
       "      <th>PRating</th>\n",
       "    </tr>\n",
       "  </thead>\n",
       "  <tbody>\n",
       "    <tr>\n",
       "      <td>75667</td>\n",
       "      <td>2430</td>\n",
       "      <td>5.0</td>\n",
       "    </tr>\n",
       "    <tr>\n",
       "      <td>95954</td>\n",
       "      <td>1058</td>\n",
       "      <td>5.0</td>\n",
       "    </tr>\n",
       "    <tr>\n",
       "      <td>121592</td>\n",
       "      <td>2525</td>\n",
       "      <td>5.0</td>\n",
       "    </tr>\n",
       "    <tr>\n",
       "      <td>156359</td>\n",
       "      <td>751</td>\n",
       "      <td>5.0</td>\n",
       "    </tr>\n",
       "    <tr>\n",
       "      <td>162201</td>\n",
       "      <td>2016</td>\n",
       "      <td>5.0</td>\n",
       "    </tr>\n",
       "  </tbody>\n",
       "</table>\n",
       "</div>"
      ],
      "text/plain": [
       "        Movie_Id  PRating\n",
       "75667       2430      5.0\n",
       "95954       1058      5.0\n",
       "121592      2525      5.0\n",
       "156359       751      5.0\n",
       "162201      2016      5.0"
      ]
     },
     "execution_count": 114,
     "metadata": {},
     "output_type": "execute_result"
    }
   ],
   "source": [
    "#Function to predict movies that user would like (with rating=5)\n",
    "def pridect (cid):\n",
    "    pridect_cust=df[(df['Cust_Id'] == cid) & (df['PRating'] == 5)]\n",
    "    return((pridect_cust.iloc[:, lambda pridect_cust: [1, 3]]).head())\n",
    "\n",
    "#For the user \"1664010\"\n",
    "pridect (1664010)"
   ]
  },
  {
   "cell_type": "code",
   "execution_count": 115,
   "metadata": {},
   "outputs": [
    {
     "name": "stdout",
     "output_type": "stream",
     "text": [
      "Movie_Id\n",
      "2430    Alien: Collector's Edition\n",
      "1058                 Play it Again\n",
      "2525            Sullivan's Travels\n",
      "751                 Halloween: H2O\n",
      "2016         The Magdalene Sisters\n",
      "Name: Name, dtype: object\n"
     ]
    }
   ],
   "source": [
    "#To go further, we display not only the list with the movie_id but with the titles of the movies too\n",
    "Z=pridect (1664010)\n",
    "Z = Z.set_index('Movie_Id')\n",
    "Z = Z.join(data_movie)['Name']\n",
    "print(Z)"
   ]
  },
  {
   "cell_type": "markdown",
   "metadata": {},
   "source": [
    "### Item-Based Collaborative Filtering"
   ]
  },
  {
   "cell_type": "markdown",
   "metadata": {},
   "source": [
    "In this part, we will use the correlation between the ratings of a movie as the similarity metric.\n",
    "\n",
    "In order to do this, we need to create a matrix where each column is a movie name and each row contains the rating assigned by a specific user to that movie.\n",
    "\n",
    "Since the data is very big, we had a memory error, so we decided do this part of our project with only the first data, knowing that it contains more than 24 million rows.\n",
    "\n",
    "First we will clean our data, like we did before with the hall data."
   ]
  },
  {
   "cell_type": "code",
   "execution_count": 9,
   "metadata": {},
   "outputs": [
    {
     "name": "stdout",
     "output_type": "stream",
     "text": [
      "movie_bis:  (24053764,)\n"
     ]
    }
   ],
   "source": [
    "# We will detect the rows (having a nan in the rating column) which correspond to the movies ID, \n",
    "#then we will index them and reset the indixation of data_null\n",
    "data_1_null = pd.DataFrame(pd.isnull(data_1.Rating))\n",
    "data_1_null = data_1_null[data_1_null['Rating'] == True]\n",
    "data_1_null = data_1_null.reset_index()\n",
    "\n",
    "movie_bis = []\n",
    "movie_id = 1\n",
    "\n",
    "for i,j in zip(data_1_null['index'][1:],data_1_null['index'][:-1]):\n",
    "    var = np.full((1,i-j-1), movie_id)\n",
    "    movie_bis = np.append(movie_bis, var)\n",
    "    movie_id += 1\n",
    "\n",
    "# Add the last \n",
    "last_one = np.full((1,len(data_1) - data_1_null.iloc[-1, 0] - 1),movie_id)\n",
    "movie_bis = np.append(movie_bis, last_one)\n",
    "\n",
    "print(\"movie_bis: \", movie_bis.shape)"
   ]
  },
  {
   "cell_type": "code",
   "execution_count": 10,
   "metadata": {},
   "outputs": [
    {
     "name": "stderr",
     "output_type": "stream",
     "text": [
      "C:\\Users\\NADIA\\Anaconda3\\lib\\site-packages\\ipykernel_launcher.py:4: SettingWithCopyWarning: \n",
      "A value is trying to be set on a copy of a slice from a DataFrame.\n",
      "Try using .loc[row_indexer,col_indexer] = value instead\n",
      "\n",
      "See the caveats in the documentation: http://pandas.pydata.org/pandas-docs/stable/user_guide/indexing.html#returning-a-view-versus-a-copy\n",
      "  after removing the cwd from sys.path.\n"
     ]
    },
    {
     "name": "stdout",
     "output_type": "stream",
     "text": [
      "The new data_1 : \n"
     ]
    },
    {
     "name": "stderr",
     "output_type": "stream",
     "text": [
      "C:\\Users\\NADIA\\Anaconda3\\lib\\site-packages\\ipykernel_launcher.py:5: SettingWithCopyWarning: \n",
      "A value is trying to be set on a copy of a slice from a DataFrame.\n",
      "Try using .loc[row_indexer,col_indexer] = value instead\n",
      "\n",
      "See the caveats in the documentation: http://pandas.pydata.org/pandas-docs/stable/user_guide/indexing.html#returning-a-view-versus-a-copy\n",
      "  \"\"\"\n"
     ]
    },
    {
     "data": {
      "text/html": [
       "<div>\n",
       "<style scoped>\n",
       "    .dataframe tbody tr th:only-of-type {\n",
       "        vertical-align: middle;\n",
       "    }\n",
       "\n",
       "    .dataframe tbody tr th {\n",
       "        vertical-align: top;\n",
       "    }\n",
       "\n",
       "    .dataframe thead th {\n",
       "        text-align: right;\n",
       "    }\n",
       "</style>\n",
       "<table border=\"1\" class=\"dataframe\">\n",
       "  <thead>\n",
       "    <tr style=\"text-align: right;\">\n",
       "      <th></th>\n",
       "      <th>Cust_Id</th>\n",
       "      <th>Rating</th>\n",
       "      <th>Movie_Id</th>\n",
       "    </tr>\n",
       "  </thead>\n",
       "  <tbody>\n",
       "    <tr>\n",
       "      <td>1</td>\n",
       "      <td>1488844</td>\n",
       "      <td>3.0</td>\n",
       "      <td>1</td>\n",
       "    </tr>\n",
       "    <tr>\n",
       "      <td>2</td>\n",
       "      <td>822109</td>\n",
       "      <td>5.0</td>\n",
       "      <td>1</td>\n",
       "    </tr>\n",
       "    <tr>\n",
       "      <td>3</td>\n",
       "      <td>885013</td>\n",
       "      <td>4.0</td>\n",
       "      <td>1</td>\n",
       "    </tr>\n",
       "    <tr>\n",
       "      <td>4</td>\n",
       "      <td>30878</td>\n",
       "      <td>4.0</td>\n",
       "      <td>1</td>\n",
       "    </tr>\n",
       "    <tr>\n",
       "      <td>5</td>\n",
       "      <td>823519</td>\n",
       "      <td>3.0</td>\n",
       "      <td>1</td>\n",
       "    </tr>\n",
       "  </tbody>\n",
       "</table>\n",
       "</div>"
      ],
      "text/plain": [
       "   Cust_Id  Rating  Movie_Id\n",
       "1  1488844     3.0         1\n",
       "2   822109     5.0         1\n",
       "3   885013     4.0         1\n",
       "4    30878     4.0         1\n",
       "5   823519     3.0         1"
      ]
     },
     "execution_count": 10,
     "metadata": {},
     "output_type": "execute_result"
    }
   ],
   "source": [
    "# remove those Movie ID rows\n",
    "data_1 = data_1[pd.notnull(data_1['Rating'])]\n",
    "\n",
    "data_1['Movie_Id'] = movie_bis.astype(int)\n",
    "data_1['Cust_Id'] = data_1['Cust_Id'].astype(int)\n",
    "\n",
    "# print a part of new data_1\n",
    "print(\"The new data_1 : \" )\n",
    "data_1.head()"
   ]
  },
  {
   "cell_type": "code",
   "execution_count": 15,
   "metadata": {},
   "outputs": [
    {
     "data": {
      "text/plain": [
       "Cust_Id\n",
       "6     3.333333\n",
       "7     4.066667\n",
       "8     4.000000\n",
       "10    3.346939\n",
       "25    3.500000\n",
       "Name: Rating, dtype: float64"
      ]
     },
     "execution_count": 15,
     "metadata": {},
     "output_type": "execute_result"
    }
   ],
   "source": [
    "data_1.groupby('Movie_Id')['Rating'].mean().sort_values(ascending=False)\n",
    "data_1.groupby('Movie_Id')['Rating'].count().sort_values(ascending=False)\n",
    "ratings_mean_count = pd.DataFrame(data_1.groupby('Movie_Id')['Rating'].mean())\n",
    "ratings_mean_count['rating_counts'] = pd.DataFrame(data_1.groupby('Movie_Id')['Rating'].count())\n",
    "#ratings_mean_count.head()\n",
    "data_1.groupby('Cust_Id')['Rating'].count().sort_values(ascending=False).head()\n",
    "data_1.groupby('Cust_Id')['Rating'].mean().head()"
   ]
  },
  {
   "cell_type": "code",
   "execution_count": 16,
   "metadata": {},
   "outputs": [
    {
     "name": "stdout",
     "output_type": "stream",
     "text": [
      "Less reviews movies: 1799.0\n"
     ]
    }
   ],
   "source": [
    "customer_mean_count = pd.DataFrame(data_1.groupby('Cust_Id')['Rating'].mean())\n",
    "customer_mean_count['rating_counts'] = pd.DataFrame(data_1.groupby('Cust_Id')['Rating'].count())\n",
    "customer_mean_count.head()\n",
    "\n",
    "ratings_mean_count.index = ratings_mean_count.index.map(int)\n",
    "movie_benchmark = round(ratings_mean_count['rating_counts'].quantile(0.7),0)\n",
    "drop_movie_list = ratings_mean_count[ratings_mean_count['rating_counts'] < movie_benchmark].index\n",
    "\n",
    "print('Less reviews movies: {}'.format(movie_benchmark))"
   ]
  },
  {
   "cell_type": "code",
   "execution_count": 17,
   "metadata": {},
   "outputs": [
    {
     "name": "stdout",
     "output_type": "stream",
     "text": [
      "Customers who give too less ratings: 52.0\n",
      "Original data_1: (24053764, 3)\n",
      "New data_1: (17337458, 3)\n"
     ]
    }
   ],
   "source": [
    "customer_mean_count.index = customer_mean_count.index.map(int)\n",
    "cust_benchmark = round(customer_mean_count['rating_counts'].quantile(0.7),0)\n",
    "drop_cust_list = customer_mean_count[customer_mean_count['rating_counts'] < cust_benchmark].index\n",
    "\n",
    "print('Customers who give too less ratings: {}'.format(cust_benchmark))\n",
    "\n",
    "print('Original data_1: {}'.format(data_1.shape))\n",
    "data_1 = data_1[~data_1['Movie_Id'].isin(drop_movie_list)]\n",
    "data_1 = data_1[~data_1['Cust_Id'].isin(drop_cust_list)]\n",
    "print('New data_1: {}'.format(data_1.shape))"
   ]
  },
  {
   "cell_type": "markdown",
   "metadata": {},
   "source": [
    "Now, we will creat a new data by merging data_1 with data_movie."
   ]
  },
  {
   "cell_type": "code",
   "execution_count": 18,
   "metadata": {},
   "outputs": [
    {
     "data": {
      "text/html": [
       "<div>\n",
       "<style scoped>\n",
       "    .dataframe tbody tr th:only-of-type {\n",
       "        vertical-align: middle;\n",
       "    }\n",
       "\n",
       "    .dataframe tbody tr th {\n",
       "        vertical-align: top;\n",
       "    }\n",
       "\n",
       "    .dataframe thead th {\n",
       "        text-align: right;\n",
       "    }\n",
       "</style>\n",
       "<table border=\"1\" class=\"dataframe\">\n",
       "  <thead>\n",
       "    <tr style=\"text-align: right;\">\n",
       "      <th></th>\n",
       "      <th>Cust_Id</th>\n",
       "      <th>Rating</th>\n",
       "      <th>Movie_Id</th>\n",
       "      <th>Year</th>\n",
       "      <th>Name</th>\n",
       "    </tr>\n",
       "  </thead>\n",
       "  <tbody>\n",
       "    <tr>\n",
       "      <td>0</td>\n",
       "      <td>712664</td>\n",
       "      <td>5.0</td>\n",
       "      <td>3</td>\n",
       "      <td>1997.0</td>\n",
       "      <td>Character</td>\n",
       "    </tr>\n",
       "    <tr>\n",
       "      <td>1</td>\n",
       "      <td>1331154</td>\n",
       "      <td>4.0</td>\n",
       "      <td>3</td>\n",
       "      <td>1997.0</td>\n",
       "      <td>Character</td>\n",
       "    </tr>\n",
       "    <tr>\n",
       "      <td>2</td>\n",
       "      <td>2632461</td>\n",
       "      <td>3.0</td>\n",
       "      <td>3</td>\n",
       "      <td>1997.0</td>\n",
       "      <td>Character</td>\n",
       "    </tr>\n",
       "    <tr>\n",
       "      <td>3</td>\n",
       "      <td>44937</td>\n",
       "      <td>5.0</td>\n",
       "      <td>3</td>\n",
       "      <td>1997.0</td>\n",
       "      <td>Character</td>\n",
       "    </tr>\n",
       "    <tr>\n",
       "      <td>4</td>\n",
       "      <td>656399</td>\n",
       "      <td>4.0</td>\n",
       "      <td>3</td>\n",
       "      <td>1997.0</td>\n",
       "      <td>Character</td>\n",
       "    </tr>\n",
       "  </tbody>\n",
       "</table>\n",
       "</div>"
      ],
      "text/plain": [
       "   Cust_Id  Rating  Movie_Id    Year       Name\n",
       "0   712664     5.0         3  1997.0  Character\n",
       "1  1331154     4.0         3  1997.0  Character\n",
       "2  2632461     3.0         3  1997.0  Character\n",
       "3    44937     5.0         3  1997.0  Character\n",
       "4   656399     4.0         3  1997.0  Character"
      ]
     },
     "execution_count": 18,
     "metadata": {},
     "output_type": "execute_result"
    }
   ],
   "source": [
    "data_movie_bis=pd.merge(data_1, data_movie, on='Movie_Id')\n",
    "data_movie_bis.head()"
   ]
  },
  {
   "cell_type": "markdown",
   "metadata": {},
   "source": [
    "Let's now plot the total number of ratings for a movie:"
   ]
  },
  {
   "cell_type": "code",
   "execution_count": 19,
   "metadata": {},
   "outputs": [
    {
     "data": {
      "text/plain": [
       "Name\n",
       "Pirates of the Caribbean: The Curse of the Black Pearl    117075\n",
       "Lord of the Rings: The Fellowship of the Ring             102721\n",
       "The Sixth Sense                                           102376\n",
       "American Beauty                                           101450\n",
       "Bruce Almighty                                             98545\n",
       "Name: Rating, dtype: int64"
      ]
     },
     "execution_count": 19,
     "metadata": {},
     "output_type": "execute_result"
    }
   ],
   "source": [
    "data_movie_bis.groupby('Name')['Rating'].count().sort_values(ascending=False).head()"
   ]
  },
  {
   "cell_type": "markdown",
   "metadata": {},
   "source": [
    "As we can see in the list above good movies normally receive higher ratings, for example : \"Pirates of the Caribbean: The Curse of the Black Pearl \" is at the top of the list with total rating 117075.\n",
    "So we can conclude that the number of ratings per movie is an important attribute.\n",
    "\n",
    "Let's create a new dataframe that contains this attribute."
   ]
  },
  {
   "cell_type": "code",
   "execution_count": 37,
   "metadata": {},
   "outputs": [
    {
     "data": {
      "text/html": [
       "<div>\n",
       "<style scoped>\n",
       "    .dataframe tbody tr th:only-of-type {\n",
       "        vertical-align: middle;\n",
       "    }\n",
       "\n",
       "    .dataframe tbody tr th {\n",
       "        vertical-align: top;\n",
       "    }\n",
       "\n",
       "    .dataframe thead th {\n",
       "        text-align: right;\n",
       "    }\n",
       "</style>\n",
       "<table border=\"1\" class=\"dataframe\">\n",
       "  <thead>\n",
       "    <tr style=\"text-align: right;\">\n",
       "      <th></th>\n",
       "      <th>Rating</th>\n",
       "      <th>Rating_Counts</th>\n",
       "    </tr>\n",
       "    <tr>\n",
       "      <th>Name</th>\n",
       "      <th></th>\n",
       "      <th></th>\n",
       "    </tr>\n",
       "  </thead>\n",
       "  <tbody>\n",
       "    <tr>\n",
       "      <td>10</td>\n",
       "      <td>3.113049</td>\n",
       "      <td>4644</td>\n",
       "    </tr>\n",
       "    <tr>\n",
       "      <td>10 Things I Hate About You</td>\n",
       "      <td>3.703471</td>\n",
       "      <td>38465</td>\n",
       "    </tr>\n",
       "    <tr>\n",
       "      <td>101 Dalmatians II: Patch's London Adventure</td>\n",
       "      <td>3.528282</td>\n",
       "      <td>5622</td>\n",
       "    </tr>\n",
       "    <tr>\n",
       "      <td>11:14</td>\n",
       "      <td>3.260153</td>\n",
       "      <td>1699</td>\n",
       "    </tr>\n",
       "    <tr>\n",
       "      <td>13 Ghosts</td>\n",
       "      <td>3.595732</td>\n",
       "      <td>6560</td>\n",
       "    </tr>\n",
       "  </tbody>\n",
       "</table>\n",
       "</div>"
      ],
      "text/plain": [
       "                                               Rating  Rating_Counts\n",
       "Name                                                                \n",
       "10                                           3.113049           4644\n",
       "10 Things I Hate About You                   3.703471          38465\n",
       "101 Dalmatians II: Patch's London Adventure  3.528282           5622\n",
       "11:14                                        3.260153           1699\n",
       "13 Ghosts                                    3.595732           6560"
      ]
     },
     "execution_count": 37,
     "metadata": {},
     "output_type": "execute_result"
    }
   ],
   "source": [
    "# Name : Title of movies/ Ratings : mean of scores/ Ratings_count : number of scores\n",
    "data_mean_count = pd.DataFrame(data_movie_bis.groupby('Name')['Rating'].mean())\n",
    "data_mean_count['Rating_Counts'] = pd.DataFrame(data_movie_bis.groupby('Name')['Rating'].count())\n",
    "data_mean_count.head()"
   ]
  },
  {
   "cell_type": "code",
   "execution_count": 21,
   "metadata": {},
   "outputs": [
    {
     "data": {
      "text/html": [
       "<div>\n",
       "<style scoped>\n",
       "    .dataframe tbody tr th:only-of-type {\n",
       "        vertical-align: middle;\n",
       "    }\n",
       "\n",
       "    .dataframe tbody tr th {\n",
       "        vertical-align: top;\n",
       "    }\n",
       "\n",
       "    .dataframe thead th {\n",
       "        text-align: right;\n",
       "    }\n",
       "</style>\n",
       "<table border=\"1\" class=\"dataframe\">\n",
       "  <thead>\n",
       "    <tr style=\"text-align: right;\">\n",
       "      <th>Name</th>\n",
       "      <th>10</th>\n",
       "      <th>10 Things I Hate About You</th>\n",
       "      <th>101 Dalmatians II: Patch's London Adventure</th>\n",
       "      <th>11:14</th>\n",
       "      <th>13 Ghosts</th>\n",
       "      <th>18 Again</th>\n",
       "      <th>1984</th>\n",
       "      <th>2 Fast 2 Furious</th>\n",
       "      <th>200 Cigarettes</th>\n",
       "      <th>2010: The Year We Make Contact</th>\n",
       "      <th>...</th>\n",
       "      <th>Xena: Warrior Princess: Season 3</th>\n",
       "      <th>Xena: Warrior Princess: Series Finale</th>\n",
       "      <th>Y Tu Mama Tambien</th>\n",
       "      <th>Yellow Submarine</th>\n",
       "      <th>Yi Yi</th>\n",
       "      <th>Yojimbo</th>\n",
       "      <th>Young Black Stallion</th>\n",
       "      <th>Youngblood</th>\n",
       "      <th>Yu-Gi-Oh!: The Movie</th>\n",
       "      <th>Zorro</th>\n",
       "    </tr>\n",
       "    <tr>\n",
       "      <th>Cust_Id</th>\n",
       "      <th></th>\n",
       "      <th></th>\n",
       "      <th></th>\n",
       "      <th></th>\n",
       "      <th></th>\n",
       "      <th></th>\n",
       "      <th></th>\n",
       "      <th></th>\n",
       "      <th></th>\n",
       "      <th></th>\n",
       "      <th></th>\n",
       "      <th></th>\n",
       "      <th></th>\n",
       "      <th></th>\n",
       "      <th></th>\n",
       "      <th></th>\n",
       "      <th></th>\n",
       "      <th></th>\n",
       "      <th></th>\n",
       "      <th></th>\n",
       "      <th></th>\n",
       "    </tr>\n",
       "  </thead>\n",
       "  <tbody>\n",
       "    <tr>\n",
       "      <td>6</td>\n",
       "      <td>NaN</td>\n",
       "      <td>NaN</td>\n",
       "      <td>NaN</td>\n",
       "      <td>NaN</td>\n",
       "      <td>NaN</td>\n",
       "      <td>NaN</td>\n",
       "      <td>4.0</td>\n",
       "      <td>NaN</td>\n",
       "      <td>NaN</td>\n",
       "      <td>NaN</td>\n",
       "      <td>...</td>\n",
       "      <td>NaN</td>\n",
       "      <td>NaN</td>\n",
       "      <td>NaN</td>\n",
       "      <td>NaN</td>\n",
       "      <td>NaN</td>\n",
       "      <td>NaN</td>\n",
       "      <td>NaN</td>\n",
       "      <td>NaN</td>\n",
       "      <td>NaN</td>\n",
       "      <td>NaN</td>\n",
       "    </tr>\n",
       "    <tr>\n",
       "      <td>7</td>\n",
       "      <td>NaN</td>\n",
       "      <td>NaN</td>\n",
       "      <td>NaN</td>\n",
       "      <td>NaN</td>\n",
       "      <td>NaN</td>\n",
       "      <td>NaN</td>\n",
       "      <td>NaN</td>\n",
       "      <td>3.0</td>\n",
       "      <td>NaN</td>\n",
       "      <td>NaN</td>\n",
       "      <td>...</td>\n",
       "      <td>NaN</td>\n",
       "      <td>NaN</td>\n",
       "      <td>NaN</td>\n",
       "      <td>NaN</td>\n",
       "      <td>NaN</td>\n",
       "      <td>NaN</td>\n",
       "      <td>NaN</td>\n",
       "      <td>NaN</td>\n",
       "      <td>NaN</td>\n",
       "      <td>NaN</td>\n",
       "    </tr>\n",
       "    <tr>\n",
       "      <td>79</td>\n",
       "      <td>NaN</td>\n",
       "      <td>NaN</td>\n",
       "      <td>3.0</td>\n",
       "      <td>NaN</td>\n",
       "      <td>NaN</td>\n",
       "      <td>NaN</td>\n",
       "      <td>NaN</td>\n",
       "      <td>2.0</td>\n",
       "      <td>NaN</td>\n",
       "      <td>NaN</td>\n",
       "      <td>...</td>\n",
       "      <td>NaN</td>\n",
       "      <td>NaN</td>\n",
       "      <td>NaN</td>\n",
       "      <td>NaN</td>\n",
       "      <td>NaN</td>\n",
       "      <td>NaN</td>\n",
       "      <td>NaN</td>\n",
       "      <td>NaN</td>\n",
       "      <td>3.0</td>\n",
       "      <td>NaN</td>\n",
       "    </tr>\n",
       "    <tr>\n",
       "      <td>97</td>\n",
       "      <td>NaN</td>\n",
       "      <td>NaN</td>\n",
       "      <td>NaN</td>\n",
       "      <td>NaN</td>\n",
       "      <td>NaN</td>\n",
       "      <td>NaN</td>\n",
       "      <td>NaN</td>\n",
       "      <td>NaN</td>\n",
       "      <td>NaN</td>\n",
       "      <td>NaN</td>\n",
       "      <td>...</td>\n",
       "      <td>NaN</td>\n",
       "      <td>3.0</td>\n",
       "      <td>NaN</td>\n",
       "      <td>NaN</td>\n",
       "      <td>NaN</td>\n",
       "      <td>NaN</td>\n",
       "      <td>NaN</td>\n",
       "      <td>NaN</td>\n",
       "      <td>NaN</td>\n",
       "      <td>NaN</td>\n",
       "    </tr>\n",
       "    <tr>\n",
       "      <td>134</td>\n",
       "      <td>NaN</td>\n",
       "      <td>5.0</td>\n",
       "      <td>NaN</td>\n",
       "      <td>NaN</td>\n",
       "      <td>NaN</td>\n",
       "      <td>NaN</td>\n",
       "      <td>NaN</td>\n",
       "      <td>5.0</td>\n",
       "      <td>NaN</td>\n",
       "      <td>NaN</td>\n",
       "      <td>...</td>\n",
       "      <td>NaN</td>\n",
       "      <td>NaN</td>\n",
       "      <td>NaN</td>\n",
       "      <td>NaN</td>\n",
       "      <td>NaN</td>\n",
       "      <td>NaN</td>\n",
       "      <td>NaN</td>\n",
       "      <td>NaN</td>\n",
       "      <td>NaN</td>\n",
       "      <td>NaN</td>\n",
       "    </tr>\n",
       "  </tbody>\n",
       "</table>\n",
       "<p>5 rows × 1342 columns</p>\n",
       "</div>"
      ],
      "text/plain": [
       "Name     10  10 Things I Hate About You  \\\n",
       "Cust_Id                                   \n",
       "6       NaN                         NaN   \n",
       "7       NaN                         NaN   \n",
       "79      NaN                         NaN   \n",
       "97      NaN                         NaN   \n",
       "134     NaN                         5.0   \n",
       "\n",
       "Name     101 Dalmatians II: Patch's London Adventure  11:14  13 Ghosts  \\\n",
       "Cust_Id                                                                  \n",
       "6                                                NaN    NaN        NaN   \n",
       "7                                                NaN    NaN        NaN   \n",
       "79                                               3.0    NaN        NaN   \n",
       "97                                               NaN    NaN        NaN   \n",
       "134                                              NaN    NaN        NaN   \n",
       "\n",
       "Name     18 Again  1984  2 Fast 2 Furious  200 Cigarettes  \\\n",
       "Cust_Id                                                     \n",
       "6             NaN   4.0               NaN             NaN   \n",
       "7             NaN   NaN               3.0             NaN   \n",
       "79            NaN   NaN               2.0             NaN   \n",
       "97            NaN   NaN               NaN             NaN   \n",
       "134           NaN   NaN               5.0             NaN   \n",
       "\n",
       "Name     2010: The Year We Make Contact  ...  \\\n",
       "Cust_Id                                  ...   \n",
       "6                                   NaN  ...   \n",
       "7                                   NaN  ...   \n",
       "79                                  NaN  ...   \n",
       "97                                  NaN  ...   \n",
       "134                                 NaN  ...   \n",
       "\n",
       "Name     Xena: Warrior Princess: Season 3  \\\n",
       "Cust_Id                                     \n",
       "6                                     NaN   \n",
       "7                                     NaN   \n",
       "79                                    NaN   \n",
       "97                                    NaN   \n",
       "134                                   NaN   \n",
       "\n",
       "Name     Xena: Warrior Princess: Series Finale  Y Tu Mama Tambien  \\\n",
       "Cust_Id                                                             \n",
       "6                                          NaN                NaN   \n",
       "7                                          NaN                NaN   \n",
       "79                                         NaN                NaN   \n",
       "97                                         3.0                NaN   \n",
       "134                                        NaN                NaN   \n",
       "\n",
       "Name     Yellow Submarine  Yi Yi  Yojimbo  Young Black Stallion  Youngblood  \\\n",
       "Cust_Id                                                                       \n",
       "6                     NaN    NaN      NaN                   NaN         NaN   \n",
       "7                     NaN    NaN      NaN                   NaN         NaN   \n",
       "79                    NaN    NaN      NaN                   NaN         NaN   \n",
       "97                    NaN    NaN      NaN                   NaN         NaN   \n",
       "134                   NaN    NaN      NaN                   NaN         NaN   \n",
       "\n",
       "Name     Yu-Gi-Oh!: The Movie  Zorro  \n",
       "Cust_Id                               \n",
       "6                         NaN    NaN  \n",
       "7                         NaN    NaN  \n",
       "79                        3.0    NaN  \n",
       "97                        NaN    NaN  \n",
       "134                       NaN    NaN  \n",
       "\n",
       "[5 rows x 1342 columns]"
      ]
     },
     "execution_count": 21,
     "metadata": {},
     "output_type": "execute_result"
    }
   ],
   "source": [
    "# matrix of movie titles and corresponding user ratings\n",
    "R=data_movie_bis.pivot_table(index='Cust_Id', columns='Name', values='Rating')\n",
    "R.head()"
   ]
  },
  {
   "cell_type": "markdown",
   "metadata": {},
   "source": [
    "This matrix has a lot of null values since every movie is not rated by every user."
   ]
  },
  {
   "cell_type": "markdown",
   "metadata": {},
   "source": [
    "Now, we will find similarity for movie choosing randomly, for example : Fast and Furious."
   ]
  },
  {
   "cell_type": "code",
   "execution_count": 60,
   "metadata": {},
   "outputs": [
    {
     "data": {
      "text/plain": [
       "Cust_Id\n",
       "6      NaN\n",
       "7      3.0\n",
       "79     2.0\n",
       "97     NaN\n",
       "134    5.0\n",
       "Name: 2 Fast 2 Furious, dtype: float64"
      ]
     },
     "execution_count": 60,
     "metadata": {},
     "output_type": "execute_result"
    }
   ],
   "source": [
    "FastFurious_ratings = R['2 Fast 2 Furious']\n",
    "FastFurious_ratings.head()"
   ]
  },
  {
   "cell_type": "code",
   "execution_count": 61,
   "metadata": {},
   "outputs": [
    {
     "data": {
      "text/html": [
       "<div>\n",
       "<style scoped>\n",
       "    .dataframe tbody tr th:only-of-type {\n",
       "        vertical-align: middle;\n",
       "    }\n",
       "\n",
       "    .dataframe tbody tr th {\n",
       "        vertical-align: top;\n",
       "    }\n",
       "\n",
       "    .dataframe thead th {\n",
       "        text-align: right;\n",
       "    }\n",
       "</style>\n",
       "<table border=\"1\" class=\"dataframe\">\n",
       "  <thead>\n",
       "    <tr style=\"text-align: right;\">\n",
       "      <th></th>\n",
       "      <th>Correlation</th>\n",
       "    </tr>\n",
       "    <tr>\n",
       "      <th>Name</th>\n",
       "      <th></th>\n",
       "    </tr>\n",
       "  </thead>\n",
       "  <tbody>\n",
       "    <tr>\n",
       "      <td>2 Fast 2 Furious</td>\n",
       "      <td>1.000000</td>\n",
       "    </tr>\n",
       "    <tr>\n",
       "      <td>Double Team</td>\n",
       "      <td>0.536123</td>\n",
       "    </tr>\n",
       "    <tr>\n",
       "      <td>Black Dog</td>\n",
       "      <td>0.471692</td>\n",
       "    </tr>\n",
       "    <tr>\n",
       "      <td>Cop and a Half</td>\n",
       "      <td>0.470414</td>\n",
       "    </tr>\n",
       "    <tr>\n",
       "      <td>Replicant</td>\n",
       "      <td>0.467836</td>\n",
       "    </tr>\n",
       "    <tr>\n",
       "      <td>Half Past Dead</td>\n",
       "      <td>0.460581</td>\n",
       "    </tr>\n",
       "    <tr>\n",
       "      <td>Man of the House</td>\n",
       "      <td>0.457608</td>\n",
       "    </tr>\n",
       "    <tr>\n",
       "      <td>Air Bud: World Pup</td>\n",
       "      <td>0.454644</td>\n",
       "    </tr>\n",
       "    <tr>\n",
       "      <td>The Quest</td>\n",
       "      <td>0.452302</td>\n",
       "    </tr>\n",
       "    <tr>\n",
       "      <td>Children of the Corn 4: The Gathering</td>\n",
       "      <td>0.449600</td>\n",
       "    </tr>\n",
       "  </tbody>\n",
       "</table>\n",
       "</div>"
      ],
      "text/plain": [
       "                                       Correlation\n",
       "Name                                              \n",
       "2 Fast 2 Furious                          1.000000\n",
       "Double Team                               0.536123\n",
       "Black Dog                                 0.471692\n",
       "Cop and a Half                            0.470414\n",
       "Replicant                                 0.467836\n",
       "Half Past Dead                            0.460581\n",
       "Man of the House                          0.457608\n",
       "Air Bud: World Pup                        0.454644\n",
       "The Quest                                 0.452302\n",
       "Children of the Corn 4: The Gathering     0.449600"
      ]
     },
     "execution_count": 61,
     "metadata": {},
     "output_type": "execute_result"
    }
   ],
   "source": [
    "#Correlation between \"Fast and Furious\" and the other movies\n",
    "\n",
    "movies_similar_FastFurious = R.corrwith(FastFurious_ratings)\n",
    "\n",
    "corr_FastFurious = pd.DataFrame(movies_similar_FastFurious, columns=['Correlation'])\n",
    "corr_FastFurious.dropna(inplace=True)\n",
    "corr_FastFurious.sort_values('Correlation', ascending=False).head(10)"
   ]
  },
  {
   "cell_type": "markdown",
   "metadata": {},
   "source": [
    "The list above shows movies similar to \"Fast and Furious\" according to the correlation Index, but this is not enough because a movie cannot be declared similar to the another movie based on few ratings, in other words we should take into consideration the rating count, This is why we will add \"Rating_Counts\" column."
   ]
  },
  {
   "cell_type": "code",
   "execution_count": 62,
   "metadata": {},
   "outputs": [
    {
     "data": {
      "text/html": [
       "<div>\n",
       "<style scoped>\n",
       "    .dataframe tbody tr th:only-of-type {\n",
       "        vertical-align: middle;\n",
       "    }\n",
       "\n",
       "    .dataframe tbody tr th {\n",
       "        vertical-align: top;\n",
       "    }\n",
       "\n",
       "    .dataframe thead th {\n",
       "        text-align: right;\n",
       "    }\n",
       "</style>\n",
       "<table border=\"1\" class=\"dataframe\">\n",
       "  <thead>\n",
       "    <tr style=\"text-align: right;\">\n",
       "      <th></th>\n",
       "      <th>Correlation</th>\n",
       "      <th>Rating_Counts</th>\n",
       "    </tr>\n",
       "    <tr>\n",
       "      <th>Name</th>\n",
       "      <th></th>\n",
       "      <th></th>\n",
       "    </tr>\n",
       "  </thead>\n",
       "  <tbody>\n",
       "    <tr>\n",
       "      <td>10</td>\n",
       "      <td>0.183597</td>\n",
       "      <td>4644</td>\n",
       "    </tr>\n",
       "    <tr>\n",
       "      <td>10 Things I Hate About You</td>\n",
       "      <td>0.283370</td>\n",
       "      <td>38465</td>\n",
       "    </tr>\n",
       "    <tr>\n",
       "      <td>101 Dalmatians II: Patch's London Adventure</td>\n",
       "      <td>0.336994</td>\n",
       "      <td>5622</td>\n",
       "    </tr>\n",
       "    <tr>\n",
       "      <td>11:14</td>\n",
       "      <td>0.120458</td>\n",
       "      <td>1699</td>\n",
       "    </tr>\n",
       "    <tr>\n",
       "      <td>13 Ghosts</td>\n",
       "      <td>0.334152</td>\n",
       "      <td>6560</td>\n",
       "    </tr>\n",
       "  </tbody>\n",
       "</table>\n",
       "</div>"
      ],
      "text/plain": [
       "                                             Correlation  Rating_Counts\n",
       "Name                                                                   \n",
       "10                                              0.183597           4644\n",
       "10 Things I Hate About You                      0.283370          38465\n",
       "101 Dalmatians II: Patch's London Adventure     0.336994           5622\n",
       "11:14                                           0.120458           1699\n",
       "13 Ghosts                                       0.334152           6560"
      ]
     },
     "execution_count": 62,
     "metadata": {},
     "output_type": "execute_result"
    }
   ],
   "source": [
    "corr_FastFurious = corr_FastFurious.join(data_mean_count['Rating_Counts'])\n",
    "corr_FastFurious.head()"
   ]
  },
  {
   "cell_type": "markdown",
   "metadata": {},
   "source": [
    "In addition the the corelation index, we will choose movies having more than 1000 Ratings_Counts to declare that they are similar to \"Fast and Furious\""
   ]
  },
  {
   "cell_type": "code",
   "execution_count": 63,
   "metadata": {},
   "outputs": [
    {
     "data": {
      "text/html": [
       "<div>\n",
       "<style scoped>\n",
       "    .dataframe tbody tr th:only-of-type {\n",
       "        vertical-align: middle;\n",
       "    }\n",
       "\n",
       "    .dataframe tbody tr th {\n",
       "        vertical-align: top;\n",
       "    }\n",
       "\n",
       "    .dataframe thead th {\n",
       "        text-align: right;\n",
       "    }\n",
       "</style>\n",
       "<table border=\"1\" class=\"dataframe\">\n",
       "  <thead>\n",
       "    <tr style=\"text-align: right;\">\n",
       "      <th></th>\n",
       "      <th>Correlation</th>\n",
       "      <th>Rating_Counts</th>\n",
       "    </tr>\n",
       "    <tr>\n",
       "      <th>Name</th>\n",
       "      <th></th>\n",
       "      <th></th>\n",
       "    </tr>\n",
       "  </thead>\n",
       "  <tbody>\n",
       "    <tr>\n",
       "      <td>2 Fast 2 Furious</td>\n",
       "      <td>1.000000</td>\n",
       "      <td>28017</td>\n",
       "    </tr>\n",
       "    <tr>\n",
       "      <td>Double Team</td>\n",
       "      <td>0.536123</td>\n",
       "      <td>2449</td>\n",
       "    </tr>\n",
       "    <tr>\n",
       "      <td>Black Dog</td>\n",
       "      <td>0.471692</td>\n",
       "      <td>2615</td>\n",
       "    </tr>\n",
       "    <tr>\n",
       "      <td>Cop and a Half</td>\n",
       "      <td>0.470414</td>\n",
       "      <td>5155</td>\n",
       "    </tr>\n",
       "    <tr>\n",
       "      <td>Replicant</td>\n",
       "      <td>0.467836</td>\n",
       "      <td>2184</td>\n",
       "    </tr>\n",
       "    <tr>\n",
       "      <td>Half Past Dead</td>\n",
       "      <td>0.460581</td>\n",
       "      <td>6377</td>\n",
       "    </tr>\n",
       "    <tr>\n",
       "      <td>Man of the House</td>\n",
       "      <td>0.457608</td>\n",
       "      <td>3582</td>\n",
       "    </tr>\n",
       "    <tr>\n",
       "      <td>Air Bud: World Pup</td>\n",
       "      <td>0.454644</td>\n",
       "      <td>2907</td>\n",
       "    </tr>\n",
       "    <tr>\n",
       "      <td>The Quest</td>\n",
       "      <td>0.452302</td>\n",
       "      <td>2228</td>\n",
       "    </tr>\n",
       "    <tr>\n",
       "      <td>Children of the Corn 4: The Gathering</td>\n",
       "      <td>0.449600</td>\n",
       "      <td>1863</td>\n",
       "    </tr>\n",
       "  </tbody>\n",
       "</table>\n",
       "</div>"
      ],
      "text/plain": [
       "                                       Correlation  Rating_Counts\n",
       "Name                                                             \n",
       "2 Fast 2 Furious                          1.000000          28017\n",
       "Double Team                               0.536123           2449\n",
       "Black Dog                                 0.471692           2615\n",
       "Cop and a Half                            0.470414           5155\n",
       "Replicant                                 0.467836           2184\n",
       "Half Past Dead                            0.460581           6377\n",
       "Man of the House                          0.457608           3582\n",
       "Air Bud: World Pup                        0.454644           2907\n",
       "The Quest                                 0.452302           2228\n",
       "Children of the Corn 4: The Gathering     0.449600           1863"
      ]
     },
     "execution_count": 63,
     "metadata": {},
     "output_type": "execute_result"
    }
   ],
   "source": [
    "corr_FastFurious[corr_FastFurious ['Rating_Counts']>1000].sort_values('Correlation', ascending=False).head(10)"
   ]
  },
  {
   "cell_type": "markdown",
   "metadata": {},
   "source": [
    "Finaly, we had a list movie that we can recommend to a user who watched \"Fast and Furious\", he would like them because thay are not only similar to the choosen movie but they are also well rated."
   ]
  }
 ],
 "metadata": {
  "kernelspec": {
   "display_name": "Python 3",
   "language": "python",
   "name": "python3"
  },
  "language_info": {
   "codemirror_mode": {
    "name": "ipython",
    "version": 3
   },
   "file_extension": ".py",
   "mimetype": "text/x-python",
   "name": "python",
   "nbconvert_exporter": "python",
   "pygments_lexer": "ipython3",
   "version": "3.7.4"
  }
 },
 "nbformat": 4,
 "nbformat_minor": 4
}
